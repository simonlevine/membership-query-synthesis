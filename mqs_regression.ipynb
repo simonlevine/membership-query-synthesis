{
  "nbformat": 4,
  "nbformat_minor": 0,
  "metadata": {
    "orig_nbformat": 2,
    "kernelspec": {
      "name": "python3",
      "display_name": "Python 3"
    },
    "colab": {
      "name": "hw4_regression.ipynb",
      "provenance": [],
      "collapsed_sections": [],
      "toc_visible": true
    },
    "accelerator": "GPU",
    "widgets": {
      "application/vnd.jupyter.widget-state+json": {
        "8401b6db0d724de1b1afb17caf666860": {
          "model_module": "@jupyter-widgets/controls",
          "model_name": "HBoxModel",
          "state": {
            "_view_name": "HBoxView",
            "_dom_classes": [],
            "_model_name": "HBoxModel",
            "_view_module": "@jupyter-widgets/controls",
            "_model_module_version": "1.5.0",
            "_view_count": null,
            "_view_module_version": "1.5.0",
            "box_style": "",
            "layout": "IPY_MODEL_3f928179929d453cbbac18040cbf6655",
            "_model_module": "@jupyter-widgets/controls",
            "children": [
              "IPY_MODEL_0d91ff70d6574d4ba5cc3e026c57d842",
              "IPY_MODEL_f221310404c0447d9e5c362dda1334ca"
            ]
          }
        },
        "3f928179929d453cbbac18040cbf6655": {
          "model_module": "@jupyter-widgets/base",
          "model_name": "LayoutModel",
          "state": {
            "_view_name": "LayoutView",
            "grid_template_rows": null,
            "right": null,
            "justify_content": null,
            "_view_module": "@jupyter-widgets/base",
            "overflow": null,
            "_model_module_version": "1.2.0",
            "_view_count": null,
            "flex_flow": null,
            "width": null,
            "min_width": null,
            "border": null,
            "align_items": null,
            "bottom": null,
            "_model_module": "@jupyter-widgets/base",
            "top": null,
            "grid_column": null,
            "overflow_y": null,
            "overflow_x": null,
            "grid_auto_flow": null,
            "grid_area": null,
            "grid_template_columns": null,
            "flex": null,
            "_model_name": "LayoutModel",
            "justify_items": null,
            "grid_row": null,
            "max_height": null,
            "align_content": null,
            "visibility": null,
            "align_self": null,
            "height": null,
            "min_height": null,
            "padding": null,
            "grid_auto_rows": null,
            "grid_gap": null,
            "max_width": null,
            "order": null,
            "_view_module_version": "1.2.0",
            "grid_template_areas": null,
            "object_position": null,
            "object_fit": null,
            "grid_auto_columns": null,
            "margin": null,
            "display": null,
            "left": null
          }
        },
        "0d91ff70d6574d4ba5cc3e026c57d842": {
          "model_module": "@jupyter-widgets/controls",
          "model_name": "FloatProgressModel",
          "state": {
            "_view_name": "ProgressView",
            "style": "IPY_MODEL_15fc40bd977e4a73be34b0ef8cac5e73",
            "_dom_classes": [],
            "description": "100%",
            "_model_name": "FloatProgressModel",
            "bar_style": "success",
            "max": 4,
            "_view_module": "@jupyter-widgets/controls",
            "_model_module_version": "1.5.0",
            "value": 4,
            "_view_count": null,
            "_view_module_version": "1.5.0",
            "orientation": "horizontal",
            "min": 0,
            "description_tooltip": null,
            "_model_module": "@jupyter-widgets/controls",
            "layout": "IPY_MODEL_f34ea0f5636c415991c00ab6860f285c"
          }
        },
        "f221310404c0447d9e5c362dda1334ca": {
          "model_module": "@jupyter-widgets/controls",
          "model_name": "HTMLModel",
          "state": {
            "_view_name": "HTMLView",
            "style": "IPY_MODEL_38fd3548a2114acbb905f7f3b39e3442",
            "_dom_classes": [],
            "description": "",
            "_model_name": "HTMLModel",
            "placeholder": "​",
            "_view_module": "@jupyter-widgets/controls",
            "_model_module_version": "1.5.0",
            "value": " 4/4 [13:20&lt;00:00, 200.06s/it]",
            "_view_count": null,
            "_view_module_version": "1.5.0",
            "description_tooltip": null,
            "_model_module": "@jupyter-widgets/controls",
            "layout": "IPY_MODEL_5050b158a73a4f70ab3c6fdbb857a911"
          }
        },
        "15fc40bd977e4a73be34b0ef8cac5e73": {
          "model_module": "@jupyter-widgets/controls",
          "model_name": "ProgressStyleModel",
          "state": {
            "_view_name": "StyleView",
            "_model_name": "ProgressStyleModel",
            "description_width": "initial",
            "_view_module": "@jupyter-widgets/base",
            "_model_module_version": "1.5.0",
            "_view_count": null,
            "_view_module_version": "1.2.0",
            "bar_color": null,
            "_model_module": "@jupyter-widgets/controls"
          }
        },
        "f34ea0f5636c415991c00ab6860f285c": {
          "model_module": "@jupyter-widgets/base",
          "model_name": "LayoutModel",
          "state": {
            "_view_name": "LayoutView",
            "grid_template_rows": null,
            "right": null,
            "justify_content": null,
            "_view_module": "@jupyter-widgets/base",
            "overflow": null,
            "_model_module_version": "1.2.0",
            "_view_count": null,
            "flex_flow": null,
            "width": null,
            "min_width": null,
            "border": null,
            "align_items": null,
            "bottom": null,
            "_model_module": "@jupyter-widgets/base",
            "top": null,
            "grid_column": null,
            "overflow_y": null,
            "overflow_x": null,
            "grid_auto_flow": null,
            "grid_area": null,
            "grid_template_columns": null,
            "flex": null,
            "_model_name": "LayoutModel",
            "justify_items": null,
            "grid_row": null,
            "max_height": null,
            "align_content": null,
            "visibility": null,
            "align_self": null,
            "height": null,
            "min_height": null,
            "padding": null,
            "grid_auto_rows": null,
            "grid_gap": null,
            "max_width": null,
            "order": null,
            "_view_module_version": "1.2.0",
            "grid_template_areas": null,
            "object_position": null,
            "object_fit": null,
            "grid_auto_columns": null,
            "margin": null,
            "display": null,
            "left": null
          }
        },
        "38fd3548a2114acbb905f7f3b39e3442": {
          "model_module": "@jupyter-widgets/controls",
          "model_name": "DescriptionStyleModel",
          "state": {
            "_view_name": "StyleView",
            "_model_name": "DescriptionStyleModel",
            "description_width": "",
            "_view_module": "@jupyter-widgets/base",
            "_model_module_version": "1.5.0",
            "_view_count": null,
            "_view_module_version": "1.2.0",
            "_model_module": "@jupyter-widgets/controls"
          }
        },
        "5050b158a73a4f70ab3c6fdbb857a911": {
          "model_module": "@jupyter-widgets/base",
          "model_name": "LayoutModel",
          "state": {
            "_view_name": "LayoutView",
            "grid_template_rows": null,
            "right": null,
            "justify_content": null,
            "_view_module": "@jupyter-widgets/base",
            "overflow": null,
            "_model_module_version": "1.2.0",
            "_view_count": null,
            "flex_flow": null,
            "width": null,
            "min_width": null,
            "border": null,
            "align_items": null,
            "bottom": null,
            "_model_module": "@jupyter-widgets/base",
            "top": null,
            "grid_column": null,
            "overflow_y": null,
            "overflow_x": null,
            "grid_auto_flow": null,
            "grid_area": null,
            "grid_template_columns": null,
            "flex": null,
            "_model_name": "LayoutModel",
            "justify_items": null,
            "grid_row": null,
            "max_height": null,
            "align_content": null,
            "visibility": null,
            "align_self": null,
            "height": null,
            "min_height": null,
            "padding": null,
            "grid_auto_rows": null,
            "grid_gap": null,
            "max_width": null,
            "order": null,
            "_view_module_version": "1.2.0",
            "grid_template_areas": null,
            "object_position": null,
            "object_fit": null,
            "grid_auto_columns": null,
            "margin": null,
            "display": null,
            "left": null
          }
        },
        "88e0effff2564ecdbaec681ddf4db0c9": {
          "model_module": "@jupyter-widgets/controls",
          "model_name": "HBoxModel",
          "state": {
            "_view_name": "HBoxView",
            "_dom_classes": [],
            "_model_name": "HBoxModel",
            "_view_module": "@jupyter-widgets/controls",
            "_model_module_version": "1.5.0",
            "_view_count": null,
            "_view_module_version": "1.5.0",
            "box_style": "",
            "layout": "IPY_MODEL_0882a23ee7824816a1f4cb9264e31a0f",
            "_model_module": "@jupyter-widgets/controls",
            "children": [
              "IPY_MODEL_e78123aae4df4d94b143bdad6b8e1874",
              "IPY_MODEL_e095ddc24edc4f818fae473ffe9ef272"
            ]
          }
        },
        "0882a23ee7824816a1f4cb9264e31a0f": {
          "model_module": "@jupyter-widgets/base",
          "model_name": "LayoutModel",
          "state": {
            "_view_name": "LayoutView",
            "grid_template_rows": null,
            "right": null,
            "justify_content": null,
            "_view_module": "@jupyter-widgets/base",
            "overflow": null,
            "_model_module_version": "1.2.0",
            "_view_count": null,
            "flex_flow": null,
            "width": null,
            "min_width": null,
            "border": null,
            "align_items": null,
            "bottom": null,
            "_model_module": "@jupyter-widgets/base",
            "top": null,
            "grid_column": null,
            "overflow_y": null,
            "overflow_x": null,
            "grid_auto_flow": null,
            "grid_area": null,
            "grid_template_columns": null,
            "flex": null,
            "_model_name": "LayoutModel",
            "justify_items": null,
            "grid_row": null,
            "max_height": null,
            "align_content": null,
            "visibility": null,
            "align_self": null,
            "height": null,
            "min_height": null,
            "padding": null,
            "grid_auto_rows": null,
            "grid_gap": null,
            "max_width": null,
            "order": null,
            "_view_module_version": "1.2.0",
            "grid_template_areas": null,
            "object_position": null,
            "object_fit": null,
            "grid_auto_columns": null,
            "margin": null,
            "display": null,
            "left": null
          }
        },
        "e78123aae4df4d94b143bdad6b8e1874": {
          "model_module": "@jupyter-widgets/controls",
          "model_name": "FloatProgressModel",
          "state": {
            "_view_name": "ProgressView",
            "style": "IPY_MODEL_e8b30c59193045c890c47db173243fe0",
            "_dom_classes": [],
            "description": "100%",
            "_model_name": "FloatProgressModel",
            "bar_style": "success",
            "max": 410,
            "_view_module": "@jupyter-widgets/controls",
            "_model_module_version": "1.5.0",
            "value": 410,
            "_view_count": null,
            "_view_module_version": "1.5.0",
            "orientation": "horizontal",
            "min": 0,
            "description_tooltip": null,
            "_model_module": "@jupyter-widgets/controls",
            "layout": "IPY_MODEL_25981c95f22a4b65a7c9cc0f695287ce"
          }
        },
        "e095ddc24edc4f818fae473ffe9ef272": {
          "model_module": "@jupyter-widgets/controls",
          "model_name": "HTMLModel",
          "state": {
            "_view_name": "HTMLView",
            "style": "IPY_MODEL_fcc27b898a6843988ebff57ba7eb5e6b",
            "_dom_classes": [],
            "description": "",
            "_model_name": "HTMLModel",
            "placeholder": "​",
            "_view_module": "@jupyter-widgets/controls",
            "_model_module_version": "1.5.0",
            "value": " 410/410 [09:43&lt;00:00,  1.42s/it]",
            "_view_count": null,
            "_view_module_version": "1.5.0",
            "description_tooltip": null,
            "_model_module": "@jupyter-widgets/controls",
            "layout": "IPY_MODEL_2b4df078afd04e2ca70ed22a5f32af5e"
          }
        },
        "e8b30c59193045c890c47db173243fe0": {
          "model_module": "@jupyter-widgets/controls",
          "model_name": "ProgressStyleModel",
          "state": {
            "_view_name": "StyleView",
            "_model_name": "ProgressStyleModel",
            "description_width": "initial",
            "_view_module": "@jupyter-widgets/base",
            "_model_module_version": "1.5.0",
            "_view_count": null,
            "_view_module_version": "1.2.0",
            "bar_color": null,
            "_model_module": "@jupyter-widgets/controls"
          }
        },
        "25981c95f22a4b65a7c9cc0f695287ce": {
          "model_module": "@jupyter-widgets/base",
          "model_name": "LayoutModel",
          "state": {
            "_view_name": "LayoutView",
            "grid_template_rows": null,
            "right": null,
            "justify_content": null,
            "_view_module": "@jupyter-widgets/base",
            "overflow": null,
            "_model_module_version": "1.2.0",
            "_view_count": null,
            "flex_flow": null,
            "width": null,
            "min_width": null,
            "border": null,
            "align_items": null,
            "bottom": null,
            "_model_module": "@jupyter-widgets/base",
            "top": null,
            "grid_column": null,
            "overflow_y": null,
            "overflow_x": null,
            "grid_auto_flow": null,
            "grid_area": null,
            "grid_template_columns": null,
            "flex": null,
            "_model_name": "LayoutModel",
            "justify_items": null,
            "grid_row": null,
            "max_height": null,
            "align_content": null,
            "visibility": null,
            "align_self": null,
            "height": null,
            "min_height": null,
            "padding": null,
            "grid_auto_rows": null,
            "grid_gap": null,
            "max_width": null,
            "order": null,
            "_view_module_version": "1.2.0",
            "grid_template_areas": null,
            "object_position": null,
            "object_fit": null,
            "grid_auto_columns": null,
            "margin": null,
            "display": null,
            "left": null
          }
        },
        "fcc27b898a6843988ebff57ba7eb5e6b": {
          "model_module": "@jupyter-widgets/controls",
          "model_name": "DescriptionStyleModel",
          "state": {
            "_view_name": "StyleView",
            "_model_name": "DescriptionStyleModel",
            "description_width": "",
            "_view_module": "@jupyter-widgets/base",
            "_model_module_version": "1.5.0",
            "_view_count": null,
            "_view_module_version": "1.2.0",
            "_model_module": "@jupyter-widgets/controls"
          }
        },
        "2b4df078afd04e2ca70ed22a5f32af5e": {
          "model_module": "@jupyter-widgets/base",
          "model_name": "LayoutModel",
          "state": {
            "_view_name": "LayoutView",
            "grid_template_rows": null,
            "right": null,
            "justify_content": null,
            "_view_module": "@jupyter-widgets/base",
            "overflow": null,
            "_model_module_version": "1.2.0",
            "_view_count": null,
            "flex_flow": null,
            "width": null,
            "min_width": null,
            "border": null,
            "align_items": null,
            "bottom": null,
            "_model_module": "@jupyter-widgets/base",
            "top": null,
            "grid_column": null,
            "overflow_y": null,
            "overflow_x": null,
            "grid_auto_flow": null,
            "grid_area": null,
            "grid_template_columns": null,
            "flex": null,
            "_model_name": "LayoutModel",
            "justify_items": null,
            "grid_row": null,
            "max_height": null,
            "align_content": null,
            "visibility": null,
            "align_self": null,
            "height": null,
            "min_height": null,
            "padding": null,
            "grid_auto_rows": null,
            "grid_gap": null,
            "max_width": null,
            "order": null,
            "_view_module_version": "1.2.0",
            "grid_template_areas": null,
            "object_position": null,
            "object_fit": null,
            "grid_auto_columns": null,
            "margin": null,
            "display": null,
            "left": null
          }
        },
        "44e0f70668d54e2dba78c8267c14ceed": {
          "model_module": "@jupyter-widgets/controls",
          "model_name": "HBoxModel",
          "state": {
            "_view_name": "HBoxView",
            "_dom_classes": [],
            "_model_name": "HBoxModel",
            "_view_module": "@jupyter-widgets/controls",
            "_model_module_version": "1.5.0",
            "_view_count": null,
            "_view_module_version": "1.5.0",
            "box_style": "",
            "layout": "IPY_MODEL_f8c82707314f4554afa8d3247803a836",
            "_model_module": "@jupyter-widgets/controls",
            "children": [
              "IPY_MODEL_ed9dbc04ecb04b869034feb40326571b",
              "IPY_MODEL_86d40009f7664140bf14617c76821ab8"
            ]
          }
        },
        "f8c82707314f4554afa8d3247803a836": {
          "model_module": "@jupyter-widgets/base",
          "model_name": "LayoutModel",
          "state": {
            "_view_name": "LayoutView",
            "grid_template_rows": null,
            "right": null,
            "justify_content": null,
            "_view_module": "@jupyter-widgets/base",
            "overflow": null,
            "_model_module_version": "1.2.0",
            "_view_count": null,
            "flex_flow": null,
            "width": null,
            "min_width": null,
            "border": null,
            "align_items": null,
            "bottom": null,
            "_model_module": "@jupyter-widgets/base",
            "top": null,
            "grid_column": null,
            "overflow_y": null,
            "overflow_x": null,
            "grid_auto_flow": null,
            "grid_area": null,
            "grid_template_columns": null,
            "flex": null,
            "_model_name": "LayoutModel",
            "justify_items": null,
            "grid_row": null,
            "max_height": null,
            "align_content": null,
            "visibility": null,
            "align_self": null,
            "height": null,
            "min_height": null,
            "padding": null,
            "grid_auto_rows": null,
            "grid_gap": null,
            "max_width": null,
            "order": null,
            "_view_module_version": "1.2.0",
            "grid_template_areas": null,
            "object_position": null,
            "object_fit": null,
            "grid_auto_columns": null,
            "margin": null,
            "display": null,
            "left": null
          }
        },
        "ed9dbc04ecb04b869034feb40326571b": {
          "model_module": "@jupyter-widgets/controls",
          "model_name": "FloatProgressModel",
          "state": {
            "_view_name": "ProgressView",
            "style": "IPY_MODEL_af8d9c2668f84ad9b3a0c3c5afd68f38",
            "_dom_classes": [],
            "description": "100%",
            "_model_name": "FloatProgressModel",
            "bar_style": "success",
            "max": 410,
            "_view_module": "@jupyter-widgets/controls",
            "_model_module_version": "1.5.0",
            "value": 410,
            "_view_count": null,
            "_view_module_version": "1.5.0",
            "orientation": "horizontal",
            "min": 0,
            "description_tooltip": null,
            "_model_module": "@jupyter-widgets/controls",
            "layout": "IPY_MODEL_9ab88778e2e34e1f9cb7ea8e28b8340d"
          }
        },
        "86d40009f7664140bf14617c76821ab8": {
          "model_module": "@jupyter-widgets/controls",
          "model_name": "HTMLModel",
          "state": {
            "_view_name": "HTMLView",
            "style": "IPY_MODEL_7380c40046a846209bc99f3e589fefcf",
            "_dom_classes": [],
            "description": "",
            "_model_name": "HTMLModel",
            "placeholder": "​",
            "_view_module": "@jupyter-widgets/controls",
            "_model_module_version": "1.5.0",
            "value": " 410/410 [03:48&lt;00:00,  1.79it/s]",
            "_view_count": null,
            "_view_module_version": "1.5.0",
            "description_tooltip": null,
            "_model_module": "@jupyter-widgets/controls",
            "layout": "IPY_MODEL_7444e6f6068a4937a718413c74a3d1a9"
          }
        },
        "af8d9c2668f84ad9b3a0c3c5afd68f38": {
          "model_module": "@jupyter-widgets/controls",
          "model_name": "ProgressStyleModel",
          "state": {
            "_view_name": "StyleView",
            "_model_name": "ProgressStyleModel",
            "description_width": "initial",
            "_view_module": "@jupyter-widgets/base",
            "_model_module_version": "1.5.0",
            "_view_count": null,
            "_view_module_version": "1.2.0",
            "bar_color": null,
            "_model_module": "@jupyter-widgets/controls"
          }
        },
        "9ab88778e2e34e1f9cb7ea8e28b8340d": {
          "model_module": "@jupyter-widgets/base",
          "model_name": "LayoutModel",
          "state": {
            "_view_name": "LayoutView",
            "grid_template_rows": null,
            "right": null,
            "justify_content": null,
            "_view_module": "@jupyter-widgets/base",
            "overflow": null,
            "_model_module_version": "1.2.0",
            "_view_count": null,
            "flex_flow": null,
            "width": null,
            "min_width": null,
            "border": null,
            "align_items": null,
            "bottom": null,
            "_model_module": "@jupyter-widgets/base",
            "top": null,
            "grid_column": null,
            "overflow_y": null,
            "overflow_x": null,
            "grid_auto_flow": null,
            "grid_area": null,
            "grid_template_columns": null,
            "flex": null,
            "_model_name": "LayoutModel",
            "justify_items": null,
            "grid_row": null,
            "max_height": null,
            "align_content": null,
            "visibility": null,
            "align_self": null,
            "height": null,
            "min_height": null,
            "padding": null,
            "grid_auto_rows": null,
            "grid_gap": null,
            "max_width": null,
            "order": null,
            "_view_module_version": "1.2.0",
            "grid_template_areas": null,
            "object_position": null,
            "object_fit": null,
            "grid_auto_columns": null,
            "margin": null,
            "display": null,
            "left": null
          }
        },
        "7380c40046a846209bc99f3e589fefcf": {
          "model_module": "@jupyter-widgets/controls",
          "model_name": "DescriptionStyleModel",
          "state": {
            "_view_name": "StyleView",
            "_model_name": "DescriptionStyleModel",
            "description_width": "",
            "_view_module": "@jupyter-widgets/base",
            "_model_module_version": "1.5.0",
            "_view_count": null,
            "_view_module_version": "1.2.0",
            "_model_module": "@jupyter-widgets/controls"
          }
        },
        "7444e6f6068a4937a718413c74a3d1a9": {
          "model_module": "@jupyter-widgets/base",
          "model_name": "LayoutModel",
          "state": {
            "_view_name": "LayoutView",
            "grid_template_rows": null,
            "right": null,
            "justify_content": null,
            "_view_module": "@jupyter-widgets/base",
            "overflow": null,
            "_model_module_version": "1.2.0",
            "_view_count": null,
            "flex_flow": null,
            "width": null,
            "min_width": null,
            "border": null,
            "align_items": null,
            "bottom": null,
            "_model_module": "@jupyter-widgets/base",
            "top": null,
            "grid_column": null,
            "overflow_y": null,
            "overflow_x": null,
            "grid_auto_flow": null,
            "grid_area": null,
            "grid_template_columns": null,
            "flex": null,
            "_model_name": "LayoutModel",
            "justify_items": null,
            "grid_row": null,
            "max_height": null,
            "align_content": null,
            "visibility": null,
            "align_self": null,
            "height": null,
            "min_height": null,
            "padding": null,
            "grid_auto_rows": null,
            "grid_gap": null,
            "max_width": null,
            "order": null,
            "_view_module_version": "1.2.0",
            "grid_template_areas": null,
            "object_position": null,
            "object_fit": null,
            "grid_auto_columns": null,
            "margin": null,
            "display": null,
            "left": null
          }
        },
        "23a569f2913f43ecb884d2e6ed25c64e": {
          "model_module": "@jupyter-widgets/controls",
          "model_name": "HBoxModel",
          "state": {
            "_view_name": "HBoxView",
            "_dom_classes": [],
            "_model_name": "HBoxModel",
            "_view_module": "@jupyter-widgets/controls",
            "_model_module_version": "1.5.0",
            "_view_count": null,
            "_view_module_version": "1.5.0",
            "box_style": "",
            "layout": "IPY_MODEL_147282a86bfe4f959cb4afb7d73f7df6",
            "_model_module": "@jupyter-widgets/controls",
            "children": [
              "IPY_MODEL_f3558f4df1ce4ffaac95cd4b771b5a03",
              "IPY_MODEL_90a7d5c1720e49d7b62cf658bd7eebe5"
            ]
          }
        },
        "147282a86bfe4f959cb4afb7d73f7df6": {
          "model_module": "@jupyter-widgets/base",
          "model_name": "LayoutModel",
          "state": {
            "_view_name": "LayoutView",
            "grid_template_rows": null,
            "right": null,
            "justify_content": null,
            "_view_module": "@jupyter-widgets/base",
            "overflow": null,
            "_model_module_version": "1.2.0",
            "_view_count": null,
            "flex_flow": null,
            "width": null,
            "min_width": null,
            "border": null,
            "align_items": null,
            "bottom": null,
            "_model_module": "@jupyter-widgets/base",
            "top": null,
            "grid_column": null,
            "overflow_y": null,
            "overflow_x": null,
            "grid_auto_flow": null,
            "grid_area": null,
            "grid_template_columns": null,
            "flex": null,
            "_model_name": "LayoutModel",
            "justify_items": null,
            "grid_row": null,
            "max_height": null,
            "align_content": null,
            "visibility": null,
            "align_self": null,
            "height": null,
            "min_height": null,
            "padding": null,
            "grid_auto_rows": null,
            "grid_gap": null,
            "max_width": null,
            "order": null,
            "_view_module_version": "1.2.0",
            "grid_template_areas": null,
            "object_position": null,
            "object_fit": null,
            "grid_auto_columns": null,
            "margin": null,
            "display": null,
            "left": null
          }
        },
        "f3558f4df1ce4ffaac95cd4b771b5a03": {
          "model_module": "@jupyter-widgets/controls",
          "model_name": "FloatProgressModel",
          "state": {
            "_view_name": "ProgressView",
            "style": "IPY_MODEL_d4ab0e6def17462a831a41419b95f549",
            "_dom_classes": [],
            "description": "100%",
            "_model_name": "FloatProgressModel",
            "bar_style": "success",
            "max": 410,
            "_view_module": "@jupyter-widgets/controls",
            "_model_module_version": "1.5.0",
            "value": 410,
            "_view_count": null,
            "_view_module_version": "1.5.0",
            "orientation": "horizontal",
            "min": 0,
            "description_tooltip": null,
            "_model_module": "@jupyter-widgets/controls",
            "layout": "IPY_MODEL_8544c51528b34a83874c07cc3134a536"
          }
        },
        "90a7d5c1720e49d7b62cf658bd7eebe5": {
          "model_module": "@jupyter-widgets/controls",
          "model_name": "HTMLModel",
          "state": {
            "_view_name": "HTMLView",
            "style": "IPY_MODEL_a8754d968c184c58a1726be893b4761e",
            "_dom_classes": [],
            "description": "",
            "_model_name": "HTMLModel",
            "placeholder": "​",
            "_view_module": "@jupyter-widgets/controls",
            "_model_module_version": "1.5.0",
            "value": " 410/410 [01:43&lt;00:00,  3.96it/s]",
            "_view_count": null,
            "_view_module_version": "1.5.0",
            "description_tooltip": null,
            "_model_module": "@jupyter-widgets/controls",
            "layout": "IPY_MODEL_2eca3dbdecc4449bad065a0ce3dce20d"
          }
        },
        "d4ab0e6def17462a831a41419b95f549": {
          "model_module": "@jupyter-widgets/controls",
          "model_name": "ProgressStyleModel",
          "state": {
            "_view_name": "StyleView",
            "_model_name": "ProgressStyleModel",
            "description_width": "initial",
            "_view_module": "@jupyter-widgets/base",
            "_model_module_version": "1.5.0",
            "_view_count": null,
            "_view_module_version": "1.2.0",
            "bar_color": null,
            "_model_module": "@jupyter-widgets/controls"
          }
        },
        "8544c51528b34a83874c07cc3134a536": {
          "model_module": "@jupyter-widgets/base",
          "model_name": "LayoutModel",
          "state": {
            "_view_name": "LayoutView",
            "grid_template_rows": null,
            "right": null,
            "justify_content": null,
            "_view_module": "@jupyter-widgets/base",
            "overflow": null,
            "_model_module_version": "1.2.0",
            "_view_count": null,
            "flex_flow": null,
            "width": null,
            "min_width": null,
            "border": null,
            "align_items": null,
            "bottom": null,
            "_model_module": "@jupyter-widgets/base",
            "top": null,
            "grid_column": null,
            "overflow_y": null,
            "overflow_x": null,
            "grid_auto_flow": null,
            "grid_area": null,
            "grid_template_columns": null,
            "flex": null,
            "_model_name": "LayoutModel",
            "justify_items": null,
            "grid_row": null,
            "max_height": null,
            "align_content": null,
            "visibility": null,
            "align_self": null,
            "height": null,
            "min_height": null,
            "padding": null,
            "grid_auto_rows": null,
            "grid_gap": null,
            "max_width": null,
            "order": null,
            "_view_module_version": "1.2.0",
            "grid_template_areas": null,
            "object_position": null,
            "object_fit": null,
            "grid_auto_columns": null,
            "margin": null,
            "display": null,
            "left": null
          }
        },
        "a8754d968c184c58a1726be893b4761e": {
          "model_module": "@jupyter-widgets/controls",
          "model_name": "DescriptionStyleModel",
          "state": {
            "_view_name": "StyleView",
            "_model_name": "DescriptionStyleModel",
            "description_width": "",
            "_view_module": "@jupyter-widgets/base",
            "_model_module_version": "1.5.0",
            "_view_count": null,
            "_view_module_version": "1.2.0",
            "_model_module": "@jupyter-widgets/controls"
          }
        },
        "2eca3dbdecc4449bad065a0ce3dce20d": {
          "model_module": "@jupyter-widgets/base",
          "model_name": "LayoutModel",
          "state": {
            "_view_name": "LayoutView",
            "grid_template_rows": null,
            "right": null,
            "justify_content": null,
            "_view_module": "@jupyter-widgets/base",
            "overflow": null,
            "_model_module_version": "1.2.0",
            "_view_count": null,
            "flex_flow": null,
            "width": null,
            "min_width": null,
            "border": null,
            "align_items": null,
            "bottom": null,
            "_model_module": "@jupyter-widgets/base",
            "top": null,
            "grid_column": null,
            "overflow_y": null,
            "overflow_x": null,
            "grid_auto_flow": null,
            "grid_area": null,
            "grid_template_columns": null,
            "flex": null,
            "_model_name": "LayoutModel",
            "justify_items": null,
            "grid_row": null,
            "max_height": null,
            "align_content": null,
            "visibility": null,
            "align_self": null,
            "height": null,
            "min_height": null,
            "padding": null,
            "grid_auto_rows": null,
            "grid_gap": null,
            "max_width": null,
            "order": null,
            "_view_module_version": "1.2.0",
            "grid_template_areas": null,
            "object_position": null,
            "object_fit": null,
            "grid_auto_columns": null,
            "margin": null,
            "display": null,
            "left": null
          }
        }
      }
    },
    "language_info": {
      "name": "python"
    }
  },
  "cells": [
    {
      "source": [
        "\n",
        "Idea 1 is to use a fitted \"oracle\" as a proof of concept to label generative instances (data leakage prone). May be worth looking at if the learner is far more onerous to train than the generator for some reason, or as a proof of concept.\n",
        "\n",
        "Idea 2 is to use a generative model to query, naïvely, a human oracle (```input(...)```) with a single instance (use case here would be lots of unlabeled data for the generator to learn from, but with very few and very expensive _labeled_ instances).\n",
        "\n",
        "Idea 3 is to do something like the paper. We generate a ton of unlabeled instances per active learning iteration, then via uncertainty sampling choose a few to query either to a human/oracle, or do a nearest neighbors search for real labeled instances (for testing purposes).\n",
        "\n",
        "Idea 4 is to do what the paper did but implement it in modAL, and also implement a regression version (could be written up too)."
      ],
      "cell_type": "markdown",
      "metadata": {}
    },
    {
      "cell_type": "code",
      "metadata": {
        "id": "Rr5vRPX_ajjQ"
      },
      "source": [
        "!pip install -q sdv"
      ],
      "execution_count": 11,
      "outputs": []
    },
    {
      "cell_type": "code",
      "metadata": {
        "colab": {
          "base_uri": "https://localhost:8080/",
          "height": 225
        },
        "id": "rI09OqM8bawR",
        "outputId": "62e87cfb-698e-4456-cf86-2050947f82ed"
      },
      "source": [
        "!pip uninstall -y numpy\n",
        "!pip install numpy"
      ],
      "execution_count": 17,
      "outputs": [
        {
          "output_type": "stream",
          "text": [
            "Collecting numpy\n",
            "  Using cached https://files.pythonhosted.org/packages/73/ef/8967d406f3f85018ceb5efab50431e901683188f1741ceb053efcab26c87/numpy-1.20.2-cp37-cp37m-manylinux2010_x86_64.whl\n",
            "\u001b[31mERROR: tensorflow 2.4.1 has requirement numpy~=1.19.2, but you'll have numpy 1.20.2 which is incompatible.\u001b[0m\n",
            "\u001b[31mERROR: datascience 0.10.6 has requirement folium==0.2.1, but you'll have folium 0.8.3 which is incompatible.\u001b[0m\n",
            "\u001b[31mERROR: albumentations 0.1.12 has requirement imgaug<0.2.7,>=0.2.5, but you'll have imgaug 0.2.9 which is incompatible.\u001b[0m\n",
            "Installing collected packages: numpy\n",
            "Successfully installed numpy-1.20.2\n"
          ],
          "name": "stdout"
        },
        {
          "output_type": "display_data",
          "data": {
            "application/vnd.colab-display-data+json": {
              "pip_warning": {
                "packages": [
                  "numpy"
                ]
              }
            }
          },
          "metadata": {
            "tags": []
          }
        }
      ]
    },
    {
      "cell_type": "code",
      "metadata": {
        "id": "3d3Fsl5VZPEw"
      },
      "source": [
        "!pip install -q ModAL"
      ],
      "execution_count": null,
      "outputs": []
    },
    {
      "cell_type": "code",
      "metadata": {
        "colab": {
          "base_uri": "https://localhost:8080/",
          "height": 407
        },
        "id": "kUXjh9PuajjF",
        "outputId": "f9be578c-176f-4324-f4b1-e548c177368f"
      },
      "source": [
        "import pandas as pd\n",
        "\n",
        "data = pd.read_csv('./DataPool.csv').dropna()\n",
        "data"
      ],
      "execution_count": 1,
      "outputs": [
        {
          "output_type": "execute_result",
          "data": {
            "text/html": [
              "<div>\n",
              "<style scoped>\n",
              "    .dataframe tbody tr th:only-of-type {\n",
              "        vertical-align: middle;\n",
              "    }\n",
              "\n",
              "    .dataframe tbody tr th {\n",
              "        vertical-align: top;\n",
              "    }\n",
              "\n",
              "    .dataframe thead th {\n",
              "        text-align: right;\n",
              "    }\n",
              "</style>\n",
              "<table border=\"1\" class=\"dataframe\">\n",
              "  <thead>\n",
              "    <tr style=\"text-align: right;\">\n",
              "      <th></th>\n",
              "      <th>Mg-glutamate (mM)</th>\n",
              "      <th>K-glutamate (mM)</th>\n",
              "      <th>Amino Acid (mM)</th>\n",
              "      <th>tRNA (mg/ml)</th>\n",
              "      <th>coA (mM)</th>\n",
              "      <th>NAD (mM)</th>\n",
              "      <th>cAMP (mM)</th>\n",
              "      <th>Folinic Acid (mM)</th>\n",
              "      <th>Spermidine (mM)</th>\n",
              "      <th>3-PGA (mM)</th>\n",
              "      <th>NTP (mM)</th>\n",
              "      <th>Yield</th>\n",
              "    </tr>\n",
              "  </thead>\n",
              "  <tbody>\n",
              "    <tr>\n",
              "      <th>0</th>\n",
              "      <td>4.0</td>\n",
              "      <td>80.0</td>\n",
              "      <td>0.15</td>\n",
              "      <td>0.06</td>\n",
              "      <td>0.078</td>\n",
              "      <td>0.033</td>\n",
              "      <td>0.225</td>\n",
              "      <td>0.0340</td>\n",
              "      <td>0.5</td>\n",
              "      <td>9.0</td>\n",
              "      <td>1.50</td>\n",
              "      <td>12.738</td>\n",
              "    </tr>\n",
              "    <tr>\n",
              "      <th>1</th>\n",
              "      <td>2.0</td>\n",
              "      <td>40.0</td>\n",
              "      <td>0.15</td>\n",
              "      <td>0.10</td>\n",
              "      <td>0.026</td>\n",
              "      <td>0.033</td>\n",
              "      <td>0.075</td>\n",
              "      <td>0.0068</td>\n",
              "      <td>0.1</td>\n",
              "      <td>15.0</td>\n",
              "      <td>0.75</td>\n",
              "      <td>5.527</td>\n",
              "    </tr>\n",
              "    <tr>\n",
              "      <th>2</th>\n",
              "      <td>4.0</td>\n",
              "      <td>80.0</td>\n",
              "      <td>0.15</td>\n",
              "      <td>0.20</td>\n",
              "      <td>0.026</td>\n",
              "      <td>0.330</td>\n",
              "      <td>0.075</td>\n",
              "      <td>0.0204</td>\n",
              "      <td>0.3</td>\n",
              "      <td>9.0</td>\n",
              "      <td>1.50</td>\n",
              "      <td>19.079</td>\n",
              "    </tr>\n",
              "    <tr>\n",
              "      <th>3</th>\n",
              "      <td>1.2</td>\n",
              "      <td>40.0</td>\n",
              "      <td>0.15</td>\n",
              "      <td>0.10</td>\n",
              "      <td>0.026</td>\n",
              "      <td>0.099</td>\n",
              "      <td>0.075</td>\n",
              "      <td>0.0340</td>\n",
              "      <td>0.5</td>\n",
              "      <td>3.0</td>\n",
              "      <td>0.75</td>\n",
              "      <td>9.743</td>\n",
              "    </tr>\n",
              "    <tr>\n",
              "      <th>4</th>\n",
              "      <td>4.0</td>\n",
              "      <td>80.0</td>\n",
              "      <td>1.50</td>\n",
              "      <td>0.06</td>\n",
              "      <td>0.130</td>\n",
              "      <td>0.033</td>\n",
              "      <td>0.075</td>\n",
              "      <td>0.0680</td>\n",
              "      <td>0.1</td>\n",
              "      <td>9.0</td>\n",
              "      <td>1.50</td>\n",
              "      <td>27.388</td>\n",
              "    </tr>\n",
              "    <tr>\n",
              "      <th>...</th>\n",
              "      <td>...</td>\n",
              "      <td>...</td>\n",
              "      <td>...</td>\n",
              "      <td>...</td>\n",
              "      <td>...</td>\n",
              "      <td>...</td>\n",
              "      <td>...</td>\n",
              "      <td>...</td>\n",
              "      <td>...</td>\n",
              "      <td>...</td>\n",
              "      <td>...</td>\n",
              "      <td>...</td>\n",
              "    </tr>\n",
              "    <tr>\n",
              "      <th>1012</th>\n",
              "      <td>4.0</td>\n",
              "      <td>80.0</td>\n",
              "      <td>0.15</td>\n",
              "      <td>0.02</td>\n",
              "      <td>0.026</td>\n",
              "      <td>0.330</td>\n",
              "      <td>0.075</td>\n",
              "      <td>0.0340</td>\n",
              "      <td>0.1</td>\n",
              "      <td>9.0</td>\n",
              "      <td>1.50</td>\n",
              "      <td>20.870</td>\n",
              "    </tr>\n",
              "    <tr>\n",
              "      <th>1013</th>\n",
              "      <td>4.0</td>\n",
              "      <td>80.0</td>\n",
              "      <td>1.50</td>\n",
              "      <td>0.10</td>\n",
              "      <td>0.130</td>\n",
              "      <td>0.165</td>\n",
              "      <td>0.075</td>\n",
              "      <td>0.0068</td>\n",
              "      <td>0.3</td>\n",
              "      <td>9.0</td>\n",
              "      <td>1.50</td>\n",
              "      <td>21.862</td>\n",
              "    </tr>\n",
              "    <tr>\n",
              "      <th>1014</th>\n",
              "      <td>1.2</td>\n",
              "      <td>40.0</td>\n",
              "      <td>0.15</td>\n",
              "      <td>0.02</td>\n",
              "      <td>0.026</td>\n",
              "      <td>0.099</td>\n",
              "      <td>0.075</td>\n",
              "      <td>0.0068</td>\n",
              "      <td>0.3</td>\n",
              "      <td>15.0</td>\n",
              "      <td>0.75</td>\n",
              "      <td>12.295</td>\n",
              "    </tr>\n",
              "    <tr>\n",
              "      <th>1015</th>\n",
              "      <td>0.4</td>\n",
              "      <td>40.0</td>\n",
              "      <td>0.15</td>\n",
              "      <td>0.06</td>\n",
              "      <td>0.026</td>\n",
              "      <td>0.033</td>\n",
              "      <td>0.075</td>\n",
              "      <td>0.0340</td>\n",
              "      <td>0.1</td>\n",
              "      <td>9.0</td>\n",
              "      <td>0.75</td>\n",
              "      <td>7.758</td>\n",
              "    </tr>\n",
              "    <tr>\n",
              "      <th>1016</th>\n",
              "      <td>2.0</td>\n",
              "      <td>40.0</td>\n",
              "      <td>0.15</td>\n",
              "      <td>0.10</td>\n",
              "      <td>0.078</td>\n",
              "      <td>0.033</td>\n",
              "      <td>0.225</td>\n",
              "      <td>0.0204</td>\n",
              "      <td>0.1</td>\n",
              "      <td>9.0</td>\n",
              "      <td>0.45</td>\n",
              "      <td>2.605</td>\n",
              "    </tr>\n",
              "  </tbody>\n",
              "</table>\n",
              "<p>1017 rows × 12 columns</p>\n",
              "</div>"
            ],
            "text/plain": [
              "      Mg-glutamate (mM)  K-glutamate (mM)  ...  NTP (mM)   Yield\n",
              "0                   4.0              80.0  ...      1.50  12.738\n",
              "1                   2.0              40.0  ...      0.75   5.527\n",
              "2                   4.0              80.0  ...      1.50  19.079\n",
              "3                   1.2              40.0  ...      0.75   9.743\n",
              "4                   4.0              80.0  ...      1.50  27.388\n",
              "...                 ...               ...  ...       ...     ...\n",
              "1012                4.0              80.0  ...      1.50  20.870\n",
              "1013                4.0              80.0  ...      1.50  21.862\n",
              "1014                1.2              40.0  ...      0.75  12.295\n",
              "1015                0.4              40.0  ...      0.75   7.758\n",
              "1016                2.0              40.0  ...      0.45   2.605\n",
              "\n",
              "[1017 rows x 12 columns]"
            ]
          },
          "metadata": {
            "tags": []
          },
          "execution_count": 1
        }
      ]
    },
    {
      "cell_type": "code",
      "metadata": {
        "colab": {
          "base_uri": "https://localhost:8080/"
        },
        "id": "JMywEuYteIR8",
        "outputId": "f6303d9f-64c5-410a-90f3-198ee13f6c6e"
      },
      "source": [
        "import torch; torch.cuda.is_available()"
      ],
      "execution_count": 2,
      "outputs": [
        {
          "output_type": "execute_result",
          "data": {
            "text/plain": [
              "True"
            ]
          },
          "metadata": {
            "tags": []
          },
          "execution_count": 2
        }
      ]
    },
    {
      "cell_type": "markdown",
      "metadata": {
        "id": "sT6m--f8dgYO"
      },
      "source": [
        "I will evaluate each model on these data to decide what to use for production."
      ]
    },
    {
      "cell_type": "code",
      "metadata": {
        "colab": {
          "base_uri": "https://localhost:8080/",
          "height": 66,
          "referenced_widgets": [
            "8401b6db0d724de1b1afb17caf666860",
            "3f928179929d453cbbac18040cbf6655",
            "0d91ff70d6574d4ba5cc3e026c57d842",
            "f221310404c0447d9e5c362dda1334ca",
            "15fc40bd977e4a73be34b0ef8cac5e73",
            "f34ea0f5636c415991c00ab6860f285c",
            "38fd3548a2114acbb905f7f3b39e3442",
            "5050b158a73a4f70ab3c6fdbb857a911"
          ]
        },
        "id": "eTFsgVQJajjQ",
        "outputId": "b0b27d9f-2f0e-4c8e-edf7-4dbb59e7f031"
      },
      "source": [
        "import warnings\n",
        "warnings.filterwarnings('ignore')\n",
        "\n",
        "from tqdm.notebook import tqdm\n",
        "from sdv.tabular import GaussianCopula, CopulaGAN, CTGAN, TVAE\n",
        "\n",
        "models = [GaussianCopula(), CopulaGAN(), CTGAN(), TVAE()]\n",
        "for model in tqdm(models):\n",
        "  model.fit(data)\n",
        "\n",
        "synthetic_data = [model.sample() for model in models]"
      ],
      "execution_count": 34,
      "outputs": [
        {
          "output_type": "display_data",
          "data": {
            "application/vnd.jupyter.widget-view+json": {
              "model_id": "8401b6db0d724de1b1afb17caf666860",
              "version_minor": 0,
              "version_major": 2
            },
            "text/plain": [
              "HBox(children=(FloatProgress(value=0.0, max=4.0), HTML(value='')))"
            ]
          },
          "metadata": {
            "tags": []
          }
        },
        {
          "output_type": "stream",
          "text": [
            "\n"
          ],
          "name": "stdout"
        }
      ]
    },
    {
      "cell_type": "code",
      "metadata": {
        "colab": {
          "base_uri": "https://localhost:8080/",
          "height": 198
        },
        "id": "QhdSO10fbx6m",
        "outputId": "853ed010-22ff-43b4-c68d-84a13eb83f40"
      },
      "source": [
        "synthetic_data[0].head()"
      ],
      "execution_count": 10,
      "outputs": [
        {
          "output_type": "execute_result",
          "data": {
            "text/html": [
              "<div>\n",
              "<style scoped>\n",
              "    .dataframe tbody tr th:only-of-type {\n",
              "        vertical-align: middle;\n",
              "    }\n",
              "\n",
              "    .dataframe tbody tr th {\n",
              "        vertical-align: top;\n",
              "    }\n",
              "\n",
              "    .dataframe thead th {\n",
              "        text-align: right;\n",
              "    }\n",
              "</style>\n",
              "<table border=\"1\" class=\"dataframe\">\n",
              "  <thead>\n",
              "    <tr style=\"text-align: right;\">\n",
              "      <th></th>\n",
              "      <th>Mg-glutamate (mM)</th>\n",
              "      <th>K-glutamate (mM)</th>\n",
              "      <th>Amino Acid (mM)</th>\n",
              "      <th>tRNA (mg/ml)</th>\n",
              "      <th>coA (mM)</th>\n",
              "      <th>NAD (mM)</th>\n",
              "      <th>cAMP (mM)</th>\n",
              "      <th>Folinic Acid (mM)</th>\n",
              "      <th>Spermidine (mM)</th>\n",
              "      <th>3-PGA (mM)</th>\n",
              "      <th>NTP (mM)</th>\n",
              "      <th>Yield</th>\n",
              "    </tr>\n",
              "  </thead>\n",
              "  <tbody>\n",
              "    <tr>\n",
              "      <th>0</th>\n",
              "      <td>4.617317</td>\n",
              "      <td>95.733577</td>\n",
              "      <td>0.583477</td>\n",
              "      <td>0.056176</td>\n",
              "      <td>-0.348115</td>\n",
              "      <td>0.073680</td>\n",
              "      <td>-0.049837</td>\n",
              "      <td>0.043459</td>\n",
              "      <td>-0.011255</td>\n",
              "      <td>9.0</td>\n",
              "      <td>1.729016</td>\n",
              "      <td>30.726654</td>\n",
              "    </tr>\n",
              "    <tr>\n",
              "      <th>1</th>\n",
              "      <td>5.288661</td>\n",
              "      <td>79.647658</td>\n",
              "      <td>9.490296</td>\n",
              "      <td>0.221329</td>\n",
              "      <td>0.112750</td>\n",
              "      <td>0.267876</td>\n",
              "      <td>0.438881</td>\n",
              "      <td>0.074337</td>\n",
              "      <td>-0.099653</td>\n",
              "      <td>9.0</td>\n",
              "      <td>1.969199</td>\n",
              "      <td>18.763849</td>\n",
              "    </tr>\n",
              "    <tr>\n",
              "      <th>2</th>\n",
              "      <td>2.670991</td>\n",
              "      <td>57.818786</td>\n",
              "      <td>0.534681</td>\n",
              "      <td>0.056160</td>\n",
              "      <td>0.080361</td>\n",
              "      <td>0.048326</td>\n",
              "      <td>0.374672</td>\n",
              "      <td>0.042097</td>\n",
              "      <td>0.278411</td>\n",
              "      <td>9.0</td>\n",
              "      <td>1.326400</td>\n",
              "      <td>15.153248</td>\n",
              "    </tr>\n",
              "    <tr>\n",
              "      <th>3</th>\n",
              "      <td>2.064969</td>\n",
              "      <td>58.233200</td>\n",
              "      <td>0.863428</td>\n",
              "      <td>0.053389</td>\n",
              "      <td>0.095364</td>\n",
              "      <td>0.035369</td>\n",
              "      <td>0.146137</td>\n",
              "      <td>0.038098</td>\n",
              "      <td>0.150666</td>\n",
              "      <td>9.0</td>\n",
              "      <td>0.860245</td>\n",
              "      <td>18.873069</td>\n",
              "    </tr>\n",
              "    <tr>\n",
              "      <th>4</th>\n",
              "      <td>2.533394</td>\n",
              "      <td>59.195608</td>\n",
              "      <td>0.226067</td>\n",
              "      <td>0.064390</td>\n",
              "      <td>0.091400</td>\n",
              "      <td>0.144559</td>\n",
              "      <td>0.202580</td>\n",
              "      <td>0.032006</td>\n",
              "      <td>0.350859</td>\n",
              "      <td>9.0</td>\n",
              "      <td>1.070854</td>\n",
              "      <td>11.776299</td>\n",
              "    </tr>\n",
              "  </tbody>\n",
              "</table>\n",
              "</div>"
            ],
            "text/plain": [
              "   Mg-glutamate (mM)  K-glutamate (mM)  ...  NTP (mM)      Yield\n",
              "0           4.617317         95.733577  ...  1.729016  30.726654\n",
              "1           5.288661         79.647658  ...  1.969199  18.763849\n",
              "2           2.670991         57.818786  ...  1.326400  15.153248\n",
              "3           2.064969         58.233200  ...  0.860245  18.873069\n",
              "4           2.533394         59.195608  ...  1.070854  11.776299\n",
              "\n",
              "[5 rows x 12 columns]"
            ]
          },
          "metadata": {
            "tags": []
          },
          "execution_count": 10
        }
      ]
    },
    {
      "cell_type": "code",
      "metadata": {
        "id": "eSJEEgUjhYiM"
      },
      "source": [
        "from sdv.evaluation import evaluate\n",
        "evaluations=[evaluate(s_data, data, aggregate=False) for s_data in synthetic_data]"
      ],
      "execution_count": 5,
      "outputs": []
    },
    {
      "cell_type": "code",
      "metadata": {
        "colab": {
          "base_uri": "https://localhost:8080/",
          "height": 228
        },
        "id": "tjXoCu3Ok_uG",
        "outputId": "9182178b-1be0-4e30-8546-dcfe9cd7bdb3"
      },
      "source": [
        "evaluations[0]"
      ],
      "execution_count": 6,
      "outputs": [
        {
          "output_type": "execute_result",
          "data": {
            "text/html": [
              "<div>\n",
              "<style scoped>\n",
              "    .dataframe tbody tr th:only-of-type {\n",
              "        vertical-align: middle;\n",
              "    }\n",
              "\n",
              "    .dataframe tbody tr th {\n",
              "        vertical-align: top;\n",
              "    }\n",
              "\n",
              "    .dataframe thead th {\n",
              "        text-align: right;\n",
              "    }\n",
              "</style>\n",
              "<table border=\"1\" class=\"dataframe\">\n",
              "  <thead>\n",
              "    <tr style=\"text-align: right;\">\n",
              "      <th></th>\n",
              "      <th>metric</th>\n",
              "      <th>name</th>\n",
              "      <th>raw_score</th>\n",
              "      <th>normalized_score</th>\n",
              "      <th>min_value</th>\n",
              "      <th>max_value</th>\n",
              "      <th>goal</th>\n",
              "    </tr>\n",
              "  </thead>\n",
              "  <tbody>\n",
              "    <tr>\n",
              "      <th>1</th>\n",
              "      <td>LogisticDetection</td>\n",
              "      <td>LogisticRegression Detection</td>\n",
              "      <td>9.468707e-01</td>\n",
              "      <td>0.946871</td>\n",
              "      <td>0.0</td>\n",
              "      <td>1.0</td>\n",
              "      <td>MAXIMIZE</td>\n",
              "    </tr>\n",
              "    <tr>\n",
              "      <th>2</th>\n",
              "      <td>SVCDetection</td>\n",
              "      <td>SVC Detection</td>\n",
              "      <td>6.970354e-01</td>\n",
              "      <td>0.697035</td>\n",
              "      <td>0.0</td>\n",
              "      <td>1.0</td>\n",
              "      <td>MAXIMIZE</td>\n",
              "    </tr>\n",
              "    <tr>\n",
              "      <th>11</th>\n",
              "      <td>GMLogLikelihood</td>\n",
              "      <td>GaussianMixture Log Likelihood</td>\n",
              "      <td>-8.220759e+07</td>\n",
              "      <td>0.000000</td>\n",
              "      <td>-inf</td>\n",
              "      <td>inf</td>\n",
              "      <td>MAXIMIZE</td>\n",
              "    </tr>\n",
              "    <tr>\n",
              "      <th>13</th>\n",
              "      <td>KSTest</td>\n",
              "      <td>Inverted Kolmogorov-Smirnov D statistic</td>\n",
              "      <td>7.370534e-01</td>\n",
              "      <td>0.737053</td>\n",
              "      <td>0.0</td>\n",
              "      <td>1.0</td>\n",
              "      <td>MAXIMIZE</td>\n",
              "    </tr>\n",
              "    <tr>\n",
              "      <th>14</th>\n",
              "      <td>KSTestExtended</td>\n",
              "      <td>Inverted Kolmogorov-Smirnov D statistic</td>\n",
              "      <td>7.370534e-01</td>\n",
              "      <td>0.737053</td>\n",
              "      <td>0.0</td>\n",
              "      <td>1.0</td>\n",
              "      <td>MAXIMIZE</td>\n",
              "    </tr>\n",
              "    <tr>\n",
              "      <th>27</th>\n",
              "      <td>ContinuousKLDivergence</td>\n",
              "      <td>Continuous Kullback–Leibler Divergence</td>\n",
              "      <td>9.588750e-02</td>\n",
              "      <td>0.095888</td>\n",
              "      <td>0.0</td>\n",
              "      <td>1.0</td>\n",
              "      <td>MAXIMIZE</td>\n",
              "    </tr>\n",
              "  </tbody>\n",
              "</table>\n",
              "</div>"
            ],
            "text/plain": [
              "                    metric  ...      goal\n",
              "1        LogisticDetection  ...  MAXIMIZE\n",
              "2             SVCDetection  ...  MAXIMIZE\n",
              "11         GMLogLikelihood  ...  MAXIMIZE\n",
              "13                  KSTest  ...  MAXIMIZE\n",
              "14          KSTestExtended  ...  MAXIMIZE\n",
              "27  ContinuousKLDivergence  ...  MAXIMIZE\n",
              "\n",
              "[6 rows x 7 columns]"
            ]
          },
          "metadata": {
            "tags": []
          },
          "execution_count": 6
        }
      ]
    },
    {
      "cell_type": "code",
      "metadata": {
        "colab": {
          "base_uri": "https://localhost:8080/",
          "height": 228
        },
        "id": "7tfE9_ijlEar",
        "outputId": "aa68d82c-7235-4cfc-b566-72c318e7c8b2"
      },
      "source": [
        "evaluations[1]"
      ],
      "execution_count": 7,
      "outputs": [
        {
          "output_type": "execute_result",
          "data": {
            "text/html": [
              "<div>\n",
              "<style scoped>\n",
              "    .dataframe tbody tr th:only-of-type {\n",
              "        vertical-align: middle;\n",
              "    }\n",
              "\n",
              "    .dataframe tbody tr th {\n",
              "        vertical-align: top;\n",
              "    }\n",
              "\n",
              "    .dataframe thead th {\n",
              "        text-align: right;\n",
              "    }\n",
              "</style>\n",
              "<table border=\"1\" class=\"dataframe\">\n",
              "  <thead>\n",
              "    <tr style=\"text-align: right;\">\n",
              "      <th></th>\n",
              "      <th>metric</th>\n",
              "      <th>name</th>\n",
              "      <th>raw_score</th>\n",
              "      <th>normalized_score</th>\n",
              "      <th>min_value</th>\n",
              "      <th>max_value</th>\n",
              "      <th>goal</th>\n",
              "    </tr>\n",
              "  </thead>\n",
              "  <tbody>\n",
              "    <tr>\n",
              "      <th>1</th>\n",
              "      <td>LogisticDetection</td>\n",
              "      <td>LogisticRegression Detection</td>\n",
              "      <td>1.000000e+00</td>\n",
              "      <td>1.000000</td>\n",
              "      <td>0.0</td>\n",
              "      <td>1.0</td>\n",
              "      <td>MAXIMIZE</td>\n",
              "    </tr>\n",
              "    <tr>\n",
              "      <th>2</th>\n",
              "      <td>SVCDetection</td>\n",
              "      <td>SVC Detection</td>\n",
              "      <td>1.000000e+00</td>\n",
              "      <td>1.000000</td>\n",
              "      <td>0.0</td>\n",
              "      <td>1.0</td>\n",
              "      <td>MAXIMIZE</td>\n",
              "    </tr>\n",
              "    <tr>\n",
              "      <th>11</th>\n",
              "      <td>GMLogLikelihood</td>\n",
              "      <td>GaussianMixture Log Likelihood</td>\n",
              "      <td>-1.220809e+13</td>\n",
              "      <td>0.000000</td>\n",
              "      <td>-inf</td>\n",
              "      <td>inf</td>\n",
              "      <td>MAXIMIZE</td>\n",
              "    </tr>\n",
              "    <tr>\n",
              "      <th>13</th>\n",
              "      <td>KSTest</td>\n",
              "      <td>Inverted Kolmogorov-Smirnov D statistic</td>\n",
              "      <td>6.619141e-01</td>\n",
              "      <td>0.661914</td>\n",
              "      <td>0.0</td>\n",
              "      <td>1.0</td>\n",
              "      <td>MAXIMIZE</td>\n",
              "    </tr>\n",
              "    <tr>\n",
              "      <th>14</th>\n",
              "      <td>KSTestExtended</td>\n",
              "      <td>Inverted Kolmogorov-Smirnov D statistic</td>\n",
              "      <td>6.619141e-01</td>\n",
              "      <td>0.661914</td>\n",
              "      <td>0.0</td>\n",
              "      <td>1.0</td>\n",
              "      <td>MAXIMIZE</td>\n",
              "    </tr>\n",
              "    <tr>\n",
              "      <th>27</th>\n",
              "      <td>ContinuousKLDivergence</td>\n",
              "      <td>Continuous Kullback–Leibler Divergence</td>\n",
              "      <td>1.925615e-01</td>\n",
              "      <td>0.192561</td>\n",
              "      <td>0.0</td>\n",
              "      <td>1.0</td>\n",
              "      <td>MAXIMIZE</td>\n",
              "    </tr>\n",
              "  </tbody>\n",
              "</table>\n",
              "</div>"
            ],
            "text/plain": [
              "                    metric  ...      goal\n",
              "1        LogisticDetection  ...  MAXIMIZE\n",
              "2             SVCDetection  ...  MAXIMIZE\n",
              "11         GMLogLikelihood  ...  MAXIMIZE\n",
              "13                  KSTest  ...  MAXIMIZE\n",
              "14          KSTestExtended  ...  MAXIMIZE\n",
              "27  ContinuousKLDivergence  ...  MAXIMIZE\n",
              "\n",
              "[6 rows x 7 columns]"
            ]
          },
          "metadata": {
            "tags": []
          },
          "execution_count": 7
        }
      ]
    },
    {
      "cell_type": "code",
      "metadata": {
        "colab": {
          "base_uri": "https://localhost:8080/",
          "height": 228
        },
        "id": "hYBz9-sRlFFb",
        "outputId": "09f895dc-47d0-4d06-b943-5ef89a010708"
      },
      "source": [
        "evaluations[2]"
      ],
      "execution_count": 8,
      "outputs": [
        {
          "output_type": "execute_result",
          "data": {
            "text/html": [
              "<div>\n",
              "<style scoped>\n",
              "    .dataframe tbody tr th:only-of-type {\n",
              "        vertical-align: middle;\n",
              "    }\n",
              "\n",
              "    .dataframe tbody tr th {\n",
              "        vertical-align: top;\n",
              "    }\n",
              "\n",
              "    .dataframe thead th {\n",
              "        text-align: right;\n",
              "    }\n",
              "</style>\n",
              "<table border=\"1\" class=\"dataframe\">\n",
              "  <thead>\n",
              "    <tr style=\"text-align: right;\">\n",
              "      <th></th>\n",
              "      <th>metric</th>\n",
              "      <th>name</th>\n",
              "      <th>raw_score</th>\n",
              "      <th>normalized_score</th>\n",
              "      <th>min_value</th>\n",
              "      <th>max_value</th>\n",
              "      <th>goal</th>\n",
              "    </tr>\n",
              "  </thead>\n",
              "  <tbody>\n",
              "    <tr>\n",
              "      <th>1</th>\n",
              "      <td>LogisticDetection</td>\n",
              "      <td>LogisticRegression Detection</td>\n",
              "      <td>2.416907e-01</td>\n",
              "      <td>0.241691</td>\n",
              "      <td>0.0</td>\n",
              "      <td>1.0</td>\n",
              "      <td>MAXIMIZE</td>\n",
              "    </tr>\n",
              "    <tr>\n",
              "      <th>2</th>\n",
              "      <td>SVCDetection</td>\n",
              "      <td>SVC Detection</td>\n",
              "      <td>2.314053e-02</td>\n",
              "      <td>0.023141</td>\n",
              "      <td>0.0</td>\n",
              "      <td>1.0</td>\n",
              "      <td>MAXIMIZE</td>\n",
              "    </tr>\n",
              "    <tr>\n",
              "      <th>11</th>\n",
              "      <td>GMLogLikelihood</td>\n",
              "      <td>GaussianMixture Log Likelihood</td>\n",
              "      <td>-1.605513e+07</td>\n",
              "      <td>0.000000</td>\n",
              "      <td>-inf</td>\n",
              "      <td>inf</td>\n",
              "      <td>MAXIMIZE</td>\n",
              "    </tr>\n",
              "    <tr>\n",
              "      <th>13</th>\n",
              "      <td>KSTest</td>\n",
              "      <td>Inverted Kolmogorov-Smirnov D statistic</td>\n",
              "      <td>6.821534e-01</td>\n",
              "      <td>0.682153</td>\n",
              "      <td>0.0</td>\n",
              "      <td>1.0</td>\n",
              "      <td>MAXIMIZE</td>\n",
              "    </tr>\n",
              "    <tr>\n",
              "      <th>14</th>\n",
              "      <td>KSTestExtended</td>\n",
              "      <td>Inverted Kolmogorov-Smirnov D statistic</td>\n",
              "      <td>6.821534e-01</td>\n",
              "      <td>0.682153</td>\n",
              "      <td>0.0</td>\n",
              "      <td>1.0</td>\n",
              "      <td>MAXIMIZE</td>\n",
              "    </tr>\n",
              "    <tr>\n",
              "      <th>27</th>\n",
              "      <td>ContinuousKLDivergence</td>\n",
              "      <td>Continuous Kullback–Leibler Divergence</td>\n",
              "      <td>1.782014e-01</td>\n",
              "      <td>0.178201</td>\n",
              "      <td>0.0</td>\n",
              "      <td>1.0</td>\n",
              "      <td>MAXIMIZE</td>\n",
              "    </tr>\n",
              "  </tbody>\n",
              "</table>\n",
              "</div>"
            ],
            "text/plain": [
              "                    metric  ...      goal\n",
              "1        LogisticDetection  ...  MAXIMIZE\n",
              "2             SVCDetection  ...  MAXIMIZE\n",
              "11         GMLogLikelihood  ...  MAXIMIZE\n",
              "13                  KSTest  ...  MAXIMIZE\n",
              "14          KSTestExtended  ...  MAXIMIZE\n",
              "27  ContinuousKLDivergence  ...  MAXIMIZE\n",
              "\n",
              "[6 rows x 7 columns]"
            ]
          },
          "metadata": {
            "tags": []
          },
          "execution_count": 8
        }
      ]
    },
    {
      "cell_type": "code",
      "metadata": {
        "colab": {
          "base_uri": "https://localhost:8080/",
          "height": 228
        },
        "id": "mUTis92BlFtY",
        "outputId": "8ad1d2e1-999e-4341-d603-e4bbb0d60b44"
      },
      "source": [
        "evaluations[3]"
      ],
      "execution_count": 11,
      "outputs": [
        {
          "output_type": "execute_result",
          "data": {
            "text/html": [
              "<div>\n",
              "<style scoped>\n",
              "    .dataframe tbody tr th:only-of-type {\n",
              "        vertical-align: middle;\n",
              "    }\n",
              "\n",
              "    .dataframe tbody tr th {\n",
              "        vertical-align: top;\n",
              "    }\n",
              "\n",
              "    .dataframe thead th {\n",
              "        text-align: right;\n",
              "    }\n",
              "</style>\n",
              "<table border=\"1\" class=\"dataframe\">\n",
              "  <thead>\n",
              "    <tr style=\"text-align: right;\">\n",
              "      <th></th>\n",
              "      <th>metric</th>\n",
              "      <th>name</th>\n",
              "      <th>raw_score</th>\n",
              "      <th>normalized_score</th>\n",
              "      <th>min_value</th>\n",
              "      <th>max_value</th>\n",
              "      <th>goal</th>\n",
              "    </tr>\n",
              "  </thead>\n",
              "  <tbody>\n",
              "    <tr>\n",
              "      <th>1</th>\n",
              "      <td>LogisticDetection</td>\n",
              "      <td>LogisticRegression Detection</td>\n",
              "      <td>9.571793e-04</td>\n",
              "      <td>0.000957</td>\n",
              "      <td>0.0</td>\n",
              "      <td>1.0</td>\n",
              "      <td>MAXIMIZE</td>\n",
              "    </tr>\n",
              "    <tr>\n",
              "      <th>2</th>\n",
              "      <td>SVCDetection</td>\n",
              "      <td>SVC Detection</td>\n",
              "      <td>2.900543e-05</td>\n",
              "      <td>0.000029</td>\n",
              "      <td>0.0</td>\n",
              "      <td>1.0</td>\n",
              "      <td>MAXIMIZE</td>\n",
              "    </tr>\n",
              "    <tr>\n",
              "      <th>11</th>\n",
              "      <td>GMLogLikelihood</td>\n",
              "      <td>GaussianMixture Log Likelihood</td>\n",
              "      <td>-1.394567e+07</td>\n",
              "      <td>0.000000</td>\n",
              "      <td>-inf</td>\n",
              "      <td>inf</td>\n",
              "      <td>MAXIMIZE</td>\n",
              "    </tr>\n",
              "    <tr>\n",
              "      <th>13</th>\n",
              "      <td>KSTest</td>\n",
              "      <td>Inverted Kolmogorov-Smirnov D statistic</td>\n",
              "      <td>3.933956e-01</td>\n",
              "      <td>0.393396</td>\n",
              "      <td>0.0</td>\n",
              "      <td>1.0</td>\n",
              "      <td>MAXIMIZE</td>\n",
              "    </tr>\n",
              "    <tr>\n",
              "      <th>14</th>\n",
              "      <td>KSTestExtended</td>\n",
              "      <td>Inverted Kolmogorov-Smirnov D statistic</td>\n",
              "      <td>3.933956e-01</td>\n",
              "      <td>0.393396</td>\n",
              "      <td>0.0</td>\n",
              "      <td>1.0</td>\n",
              "      <td>MAXIMIZE</td>\n",
              "    </tr>\n",
              "    <tr>\n",
              "      <th>27</th>\n",
              "      <td>ContinuousKLDivergence</td>\n",
              "      <td>Continuous Kullback–Leibler Divergence</td>\n",
              "      <td>2.221863e-01</td>\n",
              "      <td>0.222186</td>\n",
              "      <td>0.0</td>\n",
              "      <td>1.0</td>\n",
              "      <td>MAXIMIZE</td>\n",
              "    </tr>\n",
              "  </tbody>\n",
              "</table>\n",
              "</div>"
            ],
            "text/plain": [
              "                    metric  ...      goal\n",
              "1        LogisticDetection  ...  MAXIMIZE\n",
              "2             SVCDetection  ...  MAXIMIZE\n",
              "11         GMLogLikelihood  ...  MAXIMIZE\n",
              "13                  KSTest  ...  MAXIMIZE\n",
              "14          KSTestExtended  ...  MAXIMIZE\n",
              "27  ContinuousKLDivergence  ...  MAXIMIZE\n",
              "\n",
              "[6 rows x 7 columns]"
            ]
          },
          "metadata": {
            "tags": []
          },
          "execution_count": 11
        }
      ]
    },
    {
      "cell_type": "code",
      "metadata": {
        "colab": {
          "base_uri": "https://localhost:8080/"
        },
        "id": "xt8lGrqScg7o",
        "outputId": "c864f9a6-652d-471a-bd7d-eea40b609c97"
      },
      "source": [
        "for i, generated_data in enumerate(synthetic_data):\n",
        "  print(f'The aggregated evaluation result for {models[i].__class__.__name__} is {evaluate(generated_data, data, aggregate=True)}. \\n')"
      ],
      "execution_count": 12,
      "outputs": [
        {
          "output_type": "stream",
          "text": [
            "The aggregated evaluation result for GaussianCopula is 0.537593439858. \n",
            "\n",
            "The aggregated evaluation result for CopulaGAN is 0.5631656494108904. \n",
            "\n",
            "The aggregated evaluation result for CTGAN is 0.3021842704713694. \n",
            "\n",
            "The aggregated evaluation result for TVAE is 0.16832051099206413. \n",
            "\n"
          ],
          "name": "stdout"
        }
      ]
    },
    {
      "cell_type": "code",
      "metadata": {
        "id": "7BCvLKc2Zt-o"
      },
      "source": [
        "aggregated_evaluations = [evaluate(sd, data, aggregate=True) for sd in synthetic_data]"
      ],
      "execution_count": 35,
      "outputs": []
    },
    {
      "cell_type": "code",
      "metadata": {
        "colab": {
          "base_uri": "https://localhost:8080/"
        },
        "id": "4k34vHXLc7SG",
        "outputId": "d62076d8-d1d8-4f3b-ce35-462f0d39baf7"
      },
      "source": [
        "aggregated_evaluations"
      ],
      "execution_count": 36,
      "outputs": [
        {
          "output_type": "execute_result",
          "data": {
            "text/plain": [
              "[0.5242078713561106,\n",
              " 0.4667405743521113,\n",
              " 0.2830937003900395,\n",
              " 0.1771910322558965]"
            ]
          },
          "metadata": {
            "tags": []
          },
          "execution_count": 36
        }
      ]
    },
    {
      "cell_type": "markdown",
      "metadata": {
        "id": "-kn-7kNDhzZI"
      },
      "source": [
        "We can now see how these generative models behave in a supervised setting. This fits a Machine Learning model on the synthetic data and then evaluates it making predictions on the real data."
      ]
    },
    {
      "cell_type": "code",
      "metadata": {
        "colab": {
          "base_uri": "https://localhost:8080/"
        },
        "id": "GRsglzSCcRGQ",
        "outputId": "0e29cf72-85cc-42bc-e81f-dd9946516f5f"
      },
      "source": [
        "from sdv.metrics.tabular import LinearRegression, MLPRegressor #only two are built in...\n",
        "\n",
        "for i, generated_data in enumerate(synthetic_data):\n",
        "  for regressor in (LinearRegression, MLPRegressor):\n",
        "    print(f'''\n",
        "        The evaluation R^2 result for synthetic training data and real inference/scoring data with\n",
        "        generative model {models[i].__class__.__name__} and regression model {regressor.__name__}\n",
        "        is {regressor.compute(data,generated_data,target='Yield')}.''')"
      ],
      "execution_count": 13,
      "outputs": [
        {
          "output_type": "stream",
          "text": [
            "\n",
            "        The evaluation R^2 result for synthetic training data and real inference/scoring data with\n",
            "        generative model GaussianCopula and regression model LinearRegression\n",
            "        is -13.266503943446004.\n",
            "\n",
            "        The evaluation R^2 result for synthetic training data and real inference/scoring data with\n",
            "        generative model GaussianCopula and regression model MLPRegressor\n",
            "        is -6980.369229257133.\n",
            "\n",
            "        The evaluation R^2 result for synthetic training data and real inference/scoring data with\n",
            "        generative model CopulaGAN and regression model LinearRegression\n",
            "        is -0.750010067105459.\n",
            "\n",
            "        The evaluation R^2 result for synthetic training data and real inference/scoring data with\n",
            "        generative model CopulaGAN and regression model MLPRegressor\n",
            "        is -3.0565872071910247.\n",
            "\n",
            "        The evaluation R^2 result for synthetic training data and real inference/scoring data with\n",
            "        generative model CTGAN and regression model LinearRegression\n",
            "        is 0.004088350662938223.\n",
            "\n",
            "        The evaluation R^2 result for synthetic training data and real inference/scoring data with\n",
            "        generative model CTGAN and regression model MLPRegressor\n",
            "        is -0.30637921662559653.\n",
            "\n",
            "        The evaluation R^2 result for synthetic training data and real inference/scoring data with\n",
            "        generative model TVAE and regression model LinearRegression\n",
            "        is -0.9828353761475539.\n",
            "\n",
            "        The evaluation R^2 result for synthetic training data and real inference/scoring data with\n",
            "        generative model TVAE and regression model MLPRegressor\n",
            "        is -18.334697034259676.\n"
          ],
          "name": "stdout"
        }
      ]
    },
    {
      "cell_type": "markdown",
      "metadata": {
        "id": "Bnrl1LzEvurh"
      },
      "source": [
        "Given the active learning setting, we also could see how fitting to the real data and then fitting afterward to the fake data could improve performance."
      ]
    },
    {
      "cell_type": "code",
      "metadata": {
        "colab": {
          "base_uri": "https://localhost:8080/"
        },
        "id": "fy7-G4FGwN1f",
        "outputId": "aced48bc-45ca-4f40-aaea-afb5550a2020"
      },
      "source": [
        "#baseline\n",
        "\n",
        "for regressor in (LinearRegression, MLPRegressor):\n",
        "  print(f'''\n",
        "      The evaluation R^2 result for real training data and real inference/scoring data with regression model {regressor.__name__}\n",
        "      is {regressor.compute(data,data,target='Yield')}.''')"
      ],
      "execution_count": 14,
      "outputs": [
        {
          "output_type": "stream",
          "text": [
            "\n",
            "      The evaluation R^2 result for real training data and real inference/scoring data with regression model LinearRegression\n",
            "      is 0.804440805414651.\n",
            "\n",
            "      The evaluation R^2 result for real training data and real inference/scoring data with regression model MLPRegressor\n",
            "      is 0.06085826531689165.\n"
          ],
          "name": "stdout"
        }
      ]
    },
    {
      "cell_type": "code",
      "metadata": {
        "colab": {
          "base_uri": "https://localhost:8080/"
        },
        "id": "RBzTohQ1tpZc",
        "outputId": "5472b460-7ad4-4b99-d08e-a5df9ba16757"
      },
      "source": [
        "combined_data=[pd.concat([sd,data]) for sd in synthetic_data]\n",
        "\n",
        "for i, generated_data in enumerate(combined_data):\n",
        "  for regressor in (LinearRegression, MLPRegressor):\n",
        "    print(f'''\n",
        "        The evaluation R^2 result for synthetic training data and real inference/scoring data with\n",
        "        generative model {models[i].__class__.__name__} and regression model {regressor.__name__}\n",
        "        is {regressor.compute(data,generated_data,target='Yield')}.''')"
      ],
      "execution_count": 15,
      "outputs": [
        {
          "output_type": "stream",
          "text": [
            "\n",
            "        The evaluation R^2 result for synthetic training data and real inference/scoring data with\n",
            "        generative model GaussianCopula and regression model LinearRegression\n",
            "        is 0.7817138394730199.\n",
            "\n",
            "        The evaluation R^2 result for synthetic training data and real inference/scoring data with\n",
            "        generative model GaussianCopula and regression model MLPRegressor\n",
            "        is -3.0803199792082783.\n",
            "\n",
            "        The evaluation R^2 result for synthetic training data and real inference/scoring data with\n",
            "        generative model CopulaGAN and regression model LinearRegression\n",
            "        is -0.1867706086850156.\n",
            "\n",
            "        The evaluation R^2 result for synthetic training data and real inference/scoring data with\n",
            "        generative model CopulaGAN and regression model MLPRegressor\n",
            "        is -174688793301369.25.\n",
            "\n",
            "        The evaluation R^2 result for synthetic training data and real inference/scoring data with\n",
            "        generative model CTGAN and regression model LinearRegression\n",
            "        is 0.6395688126820642.\n",
            "\n",
            "        The evaluation R^2 result for synthetic training data and real inference/scoring data with\n",
            "        generative model CTGAN and regression model MLPRegressor\n",
            "        is 0.7288875522416537.\n",
            "\n",
            "        The evaluation R^2 result for synthetic training data and real inference/scoring data with\n",
            "        generative model TVAE and regression model LinearRegression\n",
            "        is 0.5974378512440638.\n",
            "\n",
            "        The evaluation R^2 result for synthetic training data and real inference/scoring data with\n",
            "        generative model TVAE and regression model MLPRegressor\n",
            "        is 0.7234838611554525.\n"
          ],
          "name": "stdout"
        }
      ]
    },
    {
      "cell_type": "code",
      "metadata": {
        "colab": {
          "base_uri": "https://localhost:8080/",
          "height": 407
        },
        "id": "2ibT64JKq57J",
        "outputId": "4598fdeb-31d3-4f80-b411-3190d0dcb78c"
      },
      "source": [
        "data"
      ],
      "execution_count": 16,
      "outputs": [
        {
          "output_type": "execute_result",
          "data": {
            "text/html": [
              "<div>\n",
              "<style scoped>\n",
              "    .dataframe tbody tr th:only-of-type {\n",
              "        vertical-align: middle;\n",
              "    }\n",
              "\n",
              "    .dataframe tbody tr th {\n",
              "        vertical-align: top;\n",
              "    }\n",
              "\n",
              "    .dataframe thead th {\n",
              "        text-align: right;\n",
              "    }\n",
              "</style>\n",
              "<table border=\"1\" class=\"dataframe\">\n",
              "  <thead>\n",
              "    <tr style=\"text-align: right;\">\n",
              "      <th></th>\n",
              "      <th>Mg-glutamate (mM)</th>\n",
              "      <th>K-glutamate (mM)</th>\n",
              "      <th>Amino Acid (mM)</th>\n",
              "      <th>tRNA (mg/ml)</th>\n",
              "      <th>coA (mM)</th>\n",
              "      <th>NAD (mM)</th>\n",
              "      <th>cAMP (mM)</th>\n",
              "      <th>Folinic Acid (mM)</th>\n",
              "      <th>Spermidine (mM)</th>\n",
              "      <th>3-PGA (mM)</th>\n",
              "      <th>NTP (mM)</th>\n",
              "      <th>Yield</th>\n",
              "    </tr>\n",
              "  </thead>\n",
              "  <tbody>\n",
              "    <tr>\n",
              "      <th>0</th>\n",
              "      <td>4.0</td>\n",
              "      <td>80.0</td>\n",
              "      <td>0.15</td>\n",
              "      <td>0.06</td>\n",
              "      <td>0.078</td>\n",
              "      <td>0.033</td>\n",
              "      <td>0.225</td>\n",
              "      <td>0.0340</td>\n",
              "      <td>0.5</td>\n",
              "      <td>9.0</td>\n",
              "      <td>1.50</td>\n",
              "      <td>12.738</td>\n",
              "    </tr>\n",
              "    <tr>\n",
              "      <th>1</th>\n",
              "      <td>2.0</td>\n",
              "      <td>40.0</td>\n",
              "      <td>0.15</td>\n",
              "      <td>0.10</td>\n",
              "      <td>0.026</td>\n",
              "      <td>0.033</td>\n",
              "      <td>0.075</td>\n",
              "      <td>0.0068</td>\n",
              "      <td>0.1</td>\n",
              "      <td>15.0</td>\n",
              "      <td>0.75</td>\n",
              "      <td>5.527</td>\n",
              "    </tr>\n",
              "    <tr>\n",
              "      <th>2</th>\n",
              "      <td>4.0</td>\n",
              "      <td>80.0</td>\n",
              "      <td>0.15</td>\n",
              "      <td>0.20</td>\n",
              "      <td>0.026</td>\n",
              "      <td>0.330</td>\n",
              "      <td>0.075</td>\n",
              "      <td>0.0204</td>\n",
              "      <td>0.3</td>\n",
              "      <td>9.0</td>\n",
              "      <td>1.50</td>\n",
              "      <td>19.079</td>\n",
              "    </tr>\n",
              "    <tr>\n",
              "      <th>3</th>\n",
              "      <td>1.2</td>\n",
              "      <td>40.0</td>\n",
              "      <td>0.15</td>\n",
              "      <td>0.10</td>\n",
              "      <td>0.026</td>\n",
              "      <td>0.099</td>\n",
              "      <td>0.075</td>\n",
              "      <td>0.0340</td>\n",
              "      <td>0.5</td>\n",
              "      <td>3.0</td>\n",
              "      <td>0.75</td>\n",
              "      <td>9.743</td>\n",
              "    </tr>\n",
              "    <tr>\n",
              "      <th>4</th>\n",
              "      <td>4.0</td>\n",
              "      <td>80.0</td>\n",
              "      <td>1.50</td>\n",
              "      <td>0.06</td>\n",
              "      <td>0.130</td>\n",
              "      <td>0.033</td>\n",
              "      <td>0.075</td>\n",
              "      <td>0.0680</td>\n",
              "      <td>0.1</td>\n",
              "      <td>9.0</td>\n",
              "      <td>1.50</td>\n",
              "      <td>27.388</td>\n",
              "    </tr>\n",
              "    <tr>\n",
              "      <th>...</th>\n",
              "      <td>...</td>\n",
              "      <td>...</td>\n",
              "      <td>...</td>\n",
              "      <td>...</td>\n",
              "      <td>...</td>\n",
              "      <td>...</td>\n",
              "      <td>...</td>\n",
              "      <td>...</td>\n",
              "      <td>...</td>\n",
              "      <td>...</td>\n",
              "      <td>...</td>\n",
              "      <td>...</td>\n",
              "    </tr>\n",
              "    <tr>\n",
              "      <th>1012</th>\n",
              "      <td>4.0</td>\n",
              "      <td>80.0</td>\n",
              "      <td>0.15</td>\n",
              "      <td>0.02</td>\n",
              "      <td>0.026</td>\n",
              "      <td>0.330</td>\n",
              "      <td>0.075</td>\n",
              "      <td>0.0340</td>\n",
              "      <td>0.1</td>\n",
              "      <td>9.0</td>\n",
              "      <td>1.50</td>\n",
              "      <td>20.870</td>\n",
              "    </tr>\n",
              "    <tr>\n",
              "      <th>1013</th>\n",
              "      <td>4.0</td>\n",
              "      <td>80.0</td>\n",
              "      <td>1.50</td>\n",
              "      <td>0.10</td>\n",
              "      <td>0.130</td>\n",
              "      <td>0.165</td>\n",
              "      <td>0.075</td>\n",
              "      <td>0.0068</td>\n",
              "      <td>0.3</td>\n",
              "      <td>9.0</td>\n",
              "      <td>1.50</td>\n",
              "      <td>21.862</td>\n",
              "    </tr>\n",
              "    <tr>\n",
              "      <th>1014</th>\n",
              "      <td>1.2</td>\n",
              "      <td>40.0</td>\n",
              "      <td>0.15</td>\n",
              "      <td>0.02</td>\n",
              "      <td>0.026</td>\n",
              "      <td>0.099</td>\n",
              "      <td>0.075</td>\n",
              "      <td>0.0068</td>\n",
              "      <td>0.3</td>\n",
              "      <td>15.0</td>\n",
              "      <td>0.75</td>\n",
              "      <td>12.295</td>\n",
              "    </tr>\n",
              "    <tr>\n",
              "      <th>1015</th>\n",
              "      <td>0.4</td>\n",
              "      <td>40.0</td>\n",
              "      <td>0.15</td>\n",
              "      <td>0.06</td>\n",
              "      <td>0.026</td>\n",
              "      <td>0.033</td>\n",
              "      <td>0.075</td>\n",
              "      <td>0.0340</td>\n",
              "      <td>0.1</td>\n",
              "      <td>9.0</td>\n",
              "      <td>0.75</td>\n",
              "      <td>7.758</td>\n",
              "    </tr>\n",
              "    <tr>\n",
              "      <th>1016</th>\n",
              "      <td>2.0</td>\n",
              "      <td>40.0</td>\n",
              "      <td>0.15</td>\n",
              "      <td>0.10</td>\n",
              "      <td>0.078</td>\n",
              "      <td>0.033</td>\n",
              "      <td>0.225</td>\n",
              "      <td>0.0204</td>\n",
              "      <td>0.1</td>\n",
              "      <td>9.0</td>\n",
              "      <td>0.45</td>\n",
              "      <td>2.605</td>\n",
              "    </tr>\n",
              "  </tbody>\n",
              "</table>\n",
              "<p>1017 rows × 12 columns</p>\n",
              "</div>"
            ],
            "text/plain": [
              "      Mg-glutamate (mM)  K-glutamate (mM)  ...  NTP (mM)   Yield\n",
              "0                   4.0              80.0  ...      1.50  12.738\n",
              "1                   2.0              40.0  ...      0.75   5.527\n",
              "2                   4.0              80.0  ...      1.50  19.079\n",
              "3                   1.2              40.0  ...      0.75   9.743\n",
              "4                   4.0              80.0  ...      1.50  27.388\n",
              "...                 ...               ...  ...       ...     ...\n",
              "1012                4.0              80.0  ...      1.50  20.870\n",
              "1013                4.0              80.0  ...      1.50  21.862\n",
              "1014                1.2              40.0  ...      0.75  12.295\n",
              "1015                0.4              40.0  ...      0.75   7.758\n",
              "1016                2.0              40.0  ...      0.45   2.605\n",
              "\n",
              "[1017 rows x 12 columns]"
            ]
          },
          "metadata": {
            "tags": []
          },
          "execution_count": 16
        }
      ]
    },
    {
      "cell_type": "markdown",
      "metadata": {
        "id": "alTphoAnx2Vn"
      },
      "source": [
        "We need an Oracle. That is, we want some way to accurately label the generative instances. We can try to train a regressor on all available data and say this is a \"ground-truth\" approximation."
      ]
    },
    {
      "cell_type": "code",
      "metadata": {
        "colab": {
          "base_uri": "https://localhost:8080/"
        },
        "id": "shFNbbn1yFqD",
        "outputId": "c23d7c7e-7a12-4e4c-8a5e-52ef8383886d"
      },
      "source": [
        "from sklearn.ensemble import RandomForestRegressor \n",
        "\n",
        "regr=RandomForestRegressor()\n",
        "regr.fit(X=data.drop('Yield',1).values,y=data['Yield'])\n",
        "regr.score(X=data.drop('Yield',1).values,y=data['Yield'])"
      ],
      "execution_count": 17,
      "outputs": [
        {
          "output_type": "execute_result",
          "data": {
            "text/plain": [
              "0.9893094032224862"
            ]
          },
          "metadata": {
            "tags": []
          },
          "execution_count": 17
        }
      ]
    },
    {
      "cell_type": "code",
      "metadata": {
        "colab": {
          "base_uri": "https://localhost:8080/",
          "height": 407
        },
        "id": "42b4aelkx10k",
        "outputId": "270116ee-ae7e-4852-9aba-c8c5790e7a62"
      },
      "source": [
        "synthetic_data[0] #GaussianCopula"
      ],
      "execution_count": 18,
      "outputs": [
        {
          "output_type": "execute_result",
          "data": {
            "text/html": [
              "<div>\n",
              "<style scoped>\n",
              "    .dataframe tbody tr th:only-of-type {\n",
              "        vertical-align: middle;\n",
              "    }\n",
              "\n",
              "    .dataframe tbody tr th {\n",
              "        vertical-align: top;\n",
              "    }\n",
              "\n",
              "    .dataframe thead th {\n",
              "        text-align: right;\n",
              "    }\n",
              "</style>\n",
              "<table border=\"1\" class=\"dataframe\">\n",
              "  <thead>\n",
              "    <tr style=\"text-align: right;\">\n",
              "      <th></th>\n",
              "      <th>Mg-glutamate (mM)</th>\n",
              "      <th>K-glutamate (mM)</th>\n",
              "      <th>Amino Acid (mM)</th>\n",
              "      <th>tRNA (mg/ml)</th>\n",
              "      <th>coA (mM)</th>\n",
              "      <th>NAD (mM)</th>\n",
              "      <th>cAMP (mM)</th>\n",
              "      <th>Folinic Acid (mM)</th>\n",
              "      <th>Spermidine (mM)</th>\n",
              "      <th>3-PGA (mM)</th>\n",
              "      <th>NTP (mM)</th>\n",
              "      <th>Yield</th>\n",
              "    </tr>\n",
              "  </thead>\n",
              "  <tbody>\n",
              "    <tr>\n",
              "      <th>0</th>\n",
              "      <td>4.617317</td>\n",
              "      <td>95.733577</td>\n",
              "      <td>0.583477</td>\n",
              "      <td>0.056176</td>\n",
              "      <td>-0.348115</td>\n",
              "      <td>0.073680</td>\n",
              "      <td>-0.049837</td>\n",
              "      <td>0.043459</td>\n",
              "      <td>-0.011255</td>\n",
              "      <td>9.000000</td>\n",
              "      <td>1.729016</td>\n",
              "      <td>30.726654</td>\n",
              "    </tr>\n",
              "    <tr>\n",
              "      <th>1</th>\n",
              "      <td>5.288661</td>\n",
              "      <td>79.647658</td>\n",
              "      <td>9.490296</td>\n",
              "      <td>0.221329</td>\n",
              "      <td>0.112750</td>\n",
              "      <td>0.267876</td>\n",
              "      <td>0.438881</td>\n",
              "      <td>0.074337</td>\n",
              "      <td>-0.099653</td>\n",
              "      <td>9.000000</td>\n",
              "      <td>1.969199</td>\n",
              "      <td>18.763849</td>\n",
              "    </tr>\n",
              "    <tr>\n",
              "      <th>2</th>\n",
              "      <td>2.670991</td>\n",
              "      <td>57.818786</td>\n",
              "      <td>0.534681</td>\n",
              "      <td>0.056160</td>\n",
              "      <td>0.080361</td>\n",
              "      <td>0.048326</td>\n",
              "      <td>0.374672</td>\n",
              "      <td>0.042097</td>\n",
              "      <td>0.278411</td>\n",
              "      <td>9.000000</td>\n",
              "      <td>1.326400</td>\n",
              "      <td>15.153248</td>\n",
              "    </tr>\n",
              "    <tr>\n",
              "      <th>3</th>\n",
              "      <td>2.064969</td>\n",
              "      <td>58.233200</td>\n",
              "      <td>0.863428</td>\n",
              "      <td>0.053389</td>\n",
              "      <td>0.095364</td>\n",
              "      <td>0.035369</td>\n",
              "      <td>0.146137</td>\n",
              "      <td>0.038098</td>\n",
              "      <td>0.150666</td>\n",
              "      <td>9.000000</td>\n",
              "      <td>0.860245</td>\n",
              "      <td>18.873069</td>\n",
              "    </tr>\n",
              "    <tr>\n",
              "      <th>4</th>\n",
              "      <td>2.533394</td>\n",
              "      <td>59.195608</td>\n",
              "      <td>0.226067</td>\n",
              "      <td>0.064390</td>\n",
              "      <td>0.091400</td>\n",
              "      <td>0.144559</td>\n",
              "      <td>0.202580</td>\n",
              "      <td>0.032006</td>\n",
              "      <td>0.350859</td>\n",
              "      <td>9.000000</td>\n",
              "      <td>1.070854</td>\n",
              "      <td>11.776299</td>\n",
              "    </tr>\n",
              "    <tr>\n",
              "      <th>...</th>\n",
              "      <td>...</td>\n",
              "      <td>...</td>\n",
              "      <td>...</td>\n",
              "      <td>...</td>\n",
              "      <td>...</td>\n",
              "      <td>...</td>\n",
              "      <td>...</td>\n",
              "      <td>...</td>\n",
              "      <td>...</td>\n",
              "      <td>...</td>\n",
              "      <td>...</td>\n",
              "      <td>...</td>\n",
              "    </tr>\n",
              "    <tr>\n",
              "      <th>1012</th>\n",
              "      <td>5.263173</td>\n",
              "      <td>108.943734</td>\n",
              "      <td>3.179828</td>\n",
              "      <td>0.062631</td>\n",
              "      <td>0.040595</td>\n",
              "      <td>0.128828</td>\n",
              "      <td>0.292363</td>\n",
              "      <td>0.037292</td>\n",
              "      <td>0.111163</td>\n",
              "      <td>9.000000</td>\n",
              "      <td>1.676344</td>\n",
              "      <td>27.446082</td>\n",
              "    </tr>\n",
              "    <tr>\n",
              "      <th>1013</th>\n",
              "      <td>2.528346</td>\n",
              "      <td>63.991771</td>\n",
              "      <td>0.522148</td>\n",
              "      <td>0.172098</td>\n",
              "      <td>0.033230</td>\n",
              "      <td>0.120942</td>\n",
              "      <td>0.040856</td>\n",
              "      <td>0.017787</td>\n",
              "      <td>0.234111</td>\n",
              "      <td>9.000003</td>\n",
              "      <td>1.371796</td>\n",
              "      <td>7.324930</td>\n",
              "    </tr>\n",
              "    <tr>\n",
              "      <th>1014</th>\n",
              "      <td>2.690245</td>\n",
              "      <td>65.912843</td>\n",
              "      <td>0.862015</td>\n",
              "      <td>0.066430</td>\n",
              "      <td>-0.064480</td>\n",
              "      <td>0.099502</td>\n",
              "      <td>0.313413</td>\n",
              "      <td>0.019551</td>\n",
              "      <td>-0.264235</td>\n",
              "      <td>9.000005</td>\n",
              "      <td>1.226099</td>\n",
              "      <td>23.655969</td>\n",
              "    </tr>\n",
              "    <tr>\n",
              "      <th>1015</th>\n",
              "      <td>5.472466</td>\n",
              "      <td>117.479776</td>\n",
              "      <td>1.250415</td>\n",
              "      <td>0.107548</td>\n",
              "      <td>0.125344</td>\n",
              "      <td>0.317225</td>\n",
              "      <td>0.268182</td>\n",
              "      <td>0.069349</td>\n",
              "      <td>-0.245967</td>\n",
              "      <td>9.000000</td>\n",
              "      <td>2.004066</td>\n",
              "      <td>31.305261</td>\n",
              "    </tr>\n",
              "    <tr>\n",
              "      <th>1016</th>\n",
              "      <td>3.269949</td>\n",
              "      <td>76.508529</td>\n",
              "      <td>0.699426</td>\n",
              "      <td>0.068101</td>\n",
              "      <td>0.041288</td>\n",
              "      <td>0.047239</td>\n",
              "      <td>-0.035028</td>\n",
              "      <td>0.024438</td>\n",
              "      <td>0.108916</td>\n",
              "      <td>9.000000</td>\n",
              "      <td>1.291936</td>\n",
              "      <td>26.320631</td>\n",
              "    </tr>\n",
              "  </tbody>\n",
              "</table>\n",
              "<p>1017 rows × 12 columns</p>\n",
              "</div>"
            ],
            "text/plain": [
              "      Mg-glutamate (mM)  K-glutamate (mM)  ...  NTP (mM)      Yield\n",
              "0              4.617317         95.733577  ...  1.729016  30.726654\n",
              "1              5.288661         79.647658  ...  1.969199  18.763849\n",
              "2              2.670991         57.818786  ...  1.326400  15.153248\n",
              "3              2.064969         58.233200  ...  0.860245  18.873069\n",
              "4              2.533394         59.195608  ...  1.070854  11.776299\n",
              "...                 ...               ...  ...       ...        ...\n",
              "1012           5.263173        108.943734  ...  1.676344  27.446082\n",
              "1013           2.528346         63.991771  ...  1.371796   7.324930\n",
              "1014           2.690245         65.912843  ...  1.226099  23.655969\n",
              "1015           5.472466        117.479776  ...  2.004066  31.305261\n",
              "1016           3.269949         76.508529  ...  1.291936  26.320631\n",
              "\n",
              "[1017 rows x 12 columns]"
            ]
          },
          "metadata": {
            "tags": []
          },
          "execution_count": 18
        }
      ]
    },
    {
      "cell_type": "code",
      "metadata": {
        "id": "YHygBCdmyrtn"
      },
      "source": [
        "s_data=combined_data[0] #example GaussianCopula\n",
        "s_targets=s_data['Yield']\n",
        "s_targets_oracle=regr.predict(s_data.drop('Yield',1))"
      ],
      "execution_count": 19,
      "outputs": []
    },
    {
      "cell_type": "code",
      "metadata": {
        "colab": {
          "base_uri": "https://localhost:8080/"
        },
        "id": "jN7AJhgZy2PP",
        "outputId": "56e23bbe-4d38-42d2-dc74-22140838b583"
      },
      "source": [
        "from sklearn.metrics import r2_score\n",
        "r2_score(s_targets, s_targets_oracle) #we compare generative labels to random-forest predicted labels, such that the random forest was trained on REAL data\n",
        "\n",
        "#not a terrible result. This indicates that the random forest is not great at prediction, or the genarative model is not great at label approximation, or both.\n",
        "\n",
        "#in any event, let a fitted regressor stand-in for an \"oracle\" for our membership query synthesis!"
      ],
      "execution_count": 20,
      "outputs": [
        {
          "output_type": "execute_result",
          "data": {
            "text/plain": [
              "0.6956924424065434"
            ]
          },
          "metadata": {
            "tags": []
          },
          "execution_count": 20
        }
      ]
    },
    {
      "cell_type": "markdown",
      "metadata": {
        "id": "KKGZD7rR39cD"
      },
      "source": [
        "##MQS steps: we have a budget of 510 additional instances to be labeled via MQS by an oracle. The active learning setup is as follows:\n",
        "\n",
        "- 1: train an \"oracle\" on ALL data, even test data.\n",
        "- 2: Train a query synthesizer to generate instances based on ALL (unlabeled) data available.\n",
        "\n",
        "- 3: train a freshly instantiated learner on some all available complete feature/label instances (510+507 - test amount)\n",
        "- 4: generate 510 membership queries and let the \"Oracle\" label them.\n",
        "- 5: compare to random sampling.\n"
      ]
    },
    {
      "cell_type": "code",
      "metadata": {
        "colab": {
          "base_uri": "https://localhost:8080/"
        },
        "id": "M3dYc8ql1Yxn",
        "outputId": "500c3576-3719-4f6d-a8f7-4be90432667f"
      },
      "source": [
        "#from the top:\n",
        "from sklearn.ensemble import RandomForestRegressor\n",
        "import pandas as pd\n",
        "\n",
        "data = pd.read_csv('./DataPool.csv').dropna()\n",
        "oracle=RandomForestRegressor()\n",
        "oracle.fit(X=data.drop('Yield',1).values,y=data['Yield'])\n",
        "oracle.score(X=data.drop('Yield',1).values,y=data['Yield'])"
      ],
      "execution_count": 21,
      "outputs": [
        {
          "output_type": "execute_result",
          "data": {
            "text/plain": [
              "0.9895871233915885"
            ]
          },
          "metadata": {
            "tags": []
          },
          "execution_count": 21
        }
      ]
    },
    {
      "cell_type": "markdown",
      "metadata": {
        "id": "OSg_b9155Rsx"
      },
      "source": [
        "We now must generate a held-put test set for evaluation that the synthesizer cannot see."
      ]
    },
    {
      "cell_type": "code",
      "metadata": {
        "id": "-ATeO71c1pi5"
      },
      "source": [
        "from sklearn.model_selection import train_test_split\n",
        "X_train, X_test, y_train, y_test = train_test_split(\n",
        "    data.drop('Yield',1), data['Yield'], test_size=0.15, random_state=42)"
      ],
      "execution_count": 22,
      "outputs": []
    },
    {
      "cell_type": "code",
      "metadata": {
        "colab": {
          "base_uri": "https://localhost:8080/",
          "height": 228
        },
        "id": "jamoOmRy5ng8",
        "outputId": "e9e1174b-4689-43ae-c538-a34bda2cb3c5"
      },
      "source": [
        "from sdv.tabular import GaussianCopula\n",
        "\n",
        "synthesizer = GaussianCopula()\n",
        "synthesizer.fit(X_train)\n",
        "\n",
        "synthetic_data=synthesizer.sample() #assess quality of synthesizer\n",
        "\n",
        "eval = evaluate(synthetic_data, X_train, aggregate=False)\n",
        "eval"
      ],
      "execution_count": 23,
      "outputs": [
        {
          "output_type": "execute_result",
          "data": {
            "text/html": [
              "<div>\n",
              "<style scoped>\n",
              "    .dataframe tbody tr th:only-of-type {\n",
              "        vertical-align: middle;\n",
              "    }\n",
              "\n",
              "    .dataframe tbody tr th {\n",
              "        vertical-align: top;\n",
              "    }\n",
              "\n",
              "    .dataframe thead th {\n",
              "        text-align: right;\n",
              "    }\n",
              "</style>\n",
              "<table border=\"1\" class=\"dataframe\">\n",
              "  <thead>\n",
              "    <tr style=\"text-align: right;\">\n",
              "      <th></th>\n",
              "      <th>metric</th>\n",
              "      <th>name</th>\n",
              "      <th>raw_score</th>\n",
              "      <th>normalized_score</th>\n",
              "      <th>min_value</th>\n",
              "      <th>max_value</th>\n",
              "      <th>goal</th>\n",
              "    </tr>\n",
              "  </thead>\n",
              "  <tbody>\n",
              "    <tr>\n",
              "      <th>1</th>\n",
              "      <td>LogisticDetection</td>\n",
              "      <td>LogisticRegression Detection</td>\n",
              "      <td>7.742413e-01</td>\n",
              "      <td>0.774241</td>\n",
              "      <td>0.0</td>\n",
              "      <td>1.0</td>\n",
              "      <td>MAXIMIZE</td>\n",
              "    </tr>\n",
              "    <tr>\n",
              "      <th>2</th>\n",
              "      <td>SVCDetection</td>\n",
              "      <td>SVC Detection</td>\n",
              "      <td>1.737076e-01</td>\n",
              "      <td>0.173708</td>\n",
              "      <td>0.0</td>\n",
              "      <td>1.0</td>\n",
              "      <td>MAXIMIZE</td>\n",
              "    </tr>\n",
              "    <tr>\n",
              "      <th>11</th>\n",
              "      <td>GMLogLikelihood</td>\n",
              "      <td>GaussianMixture Log Likelihood</td>\n",
              "      <td>-8.312048e+07</td>\n",
              "      <td>0.000000</td>\n",
              "      <td>-inf</td>\n",
              "      <td>inf</td>\n",
              "      <td>MAXIMIZE</td>\n",
              "    </tr>\n",
              "    <tr>\n",
              "      <th>13</th>\n",
              "      <td>KSTest</td>\n",
              "      <td>Inverted Kolmogorov-Smirnov D statistic</td>\n",
              "      <td>7.173822e-01</td>\n",
              "      <td>0.717382</td>\n",
              "      <td>0.0</td>\n",
              "      <td>1.0</td>\n",
              "      <td>MAXIMIZE</td>\n",
              "    </tr>\n",
              "    <tr>\n",
              "      <th>14</th>\n",
              "      <td>KSTestExtended</td>\n",
              "      <td>Inverted Kolmogorov-Smirnov D statistic</td>\n",
              "      <td>7.173822e-01</td>\n",
              "      <td>0.717382</td>\n",
              "      <td>0.0</td>\n",
              "      <td>1.0</td>\n",
              "      <td>MAXIMIZE</td>\n",
              "    </tr>\n",
              "    <tr>\n",
              "      <th>27</th>\n",
              "      <td>ContinuousKLDivergence</td>\n",
              "      <td>Continuous Kullback–Leibler Divergence</td>\n",
              "      <td>8.041749e-02</td>\n",
              "      <td>0.080417</td>\n",
              "      <td>0.0</td>\n",
              "      <td>1.0</td>\n",
              "      <td>MAXIMIZE</td>\n",
              "    </tr>\n",
              "  </tbody>\n",
              "</table>\n",
              "</div>"
            ],
            "text/plain": [
              "                    metric  ...      goal\n",
              "1        LogisticDetection  ...  MAXIMIZE\n",
              "2             SVCDetection  ...  MAXIMIZE\n",
              "11         GMLogLikelihood  ...  MAXIMIZE\n",
              "13                  KSTest  ...  MAXIMIZE\n",
              "14          KSTestExtended  ...  MAXIMIZE\n",
              "27  ContinuousKLDivergence  ...  MAXIMIZE\n",
              "\n",
              "[6 rows x 7 columns]"
            ]
          },
          "metadata": {
            "tags": []
          },
          "execution_count": 23
        }
      ]
    },
    {
      "cell_type": "markdown",
      "metadata": {
        "id": "xEg7jUpi4vUb"
      },
      "source": [
        "We now instantiate a blind learner and start \"fresh\" with the dataset, such that we have a total of 510 labeling experiments. We can first try with 100 initial instances and 410 membership synthesis queries."
      ]
    },
    {
      "cell_type": "code",
      "metadata": {
        "colab": {
          "base_uri": "https://localhost:8080/",
          "height": 66,
          "referenced_widgets": [
            "88e0effff2564ecdbaec681ddf4db0c9",
            "0882a23ee7824816a1f4cb9264e31a0f",
            "e78123aae4df4d94b143bdad6b8e1874",
            "e095ddc24edc4f818fae473ffe9ef272",
            "e8b30c59193045c890c47db173243fe0",
            "25981c95f22a4b65a7c9cc0f695287ce",
            "fcc27b898a6843988ebff57ba7eb5e6b",
            "2b4df078afd04e2ca70ed22a5f32af5e"
          ]
        },
        "id": "sFR_SWde37lD",
        "outputId": "3df86789-c087-494f-ceac-d217482f9668"
      },
      "source": [
        "import numpy as np\n",
        "from tqdm.notebook import tqdm,trange\n",
        "n_call_to_oracle=410\n",
        "history=[]\n",
        "curr_training_pool=X_train.sample(100).values #random\n",
        "\n",
        "for _ in trange(n_call_to_oracle):\n",
        "  synthetic_datapoint = synthesizer.sample(1)\n",
        "  curr_training_pool=np.vstack((curr_training_pool,synthetic_datapoint))\n",
        "  learner = RandomForestRegressor()\n",
        "  learner.fit(curr_training_pool,oracle.predict(curr_training_pool))\n",
        "  history.append(learner.score(X_test,y_test))"
      ],
      "execution_count": 24,
      "outputs": [
        {
          "output_type": "display_data",
          "data": {
            "application/vnd.jupyter.widget-view+json": {
              "model_id": "88e0effff2564ecdbaec681ddf4db0c9",
              "version_minor": 0,
              "version_major": 2
            },
            "text/plain": [
              "HBox(children=(FloatProgress(value=0.0, max=410.0), HTML(value='')))"
            ]
          },
          "metadata": {
            "tags": []
          }
        },
        {
          "output_type": "stream",
          "text": [
            "\n"
          ],
          "name": "stdout"
        }
      ]
    },
    {
      "cell_type": "code",
      "metadata": {
        "colab": {
          "base_uri": "https://localhost:8080/",
          "height": 298
        },
        "id": "0Iw5fFkzCZ2I",
        "outputId": "72da0ebb-76b7-4702-db31-2fde075a78e7"
      },
      "source": [
        "from matplotlib import pyplot as plt\n",
        "pd.DataFrame(history).plot(colormap='viridis')\n",
        "plt.legend('')\n",
        "plt.title('Pseudo-Oracle Membership Query Synthesis')"
      ],
      "execution_count": 26,
      "outputs": [
        {
          "output_type": "execute_result",
          "data": {
            "text/plain": [
              "Text(0.5, 1.0, 'Pseudo-Oracle Membership Query Synthesis')"
            ]
          },
          "metadata": {
            "tags": []
          },
          "execution_count": 26
        },
        {
          "output_type": "display_data",
          "data": {
            "image/png": "[encoded data removed]",
            "text/plain": [
              "<Figure size 432x288 with 1 Axes>"
            ]
          },
          "metadata": {
            "tags": [],
            "needs_background": "light"
          }
        }
      ]
    },
    {
      "cell_type": "code",
      "metadata": {
        "colab": {
          "base_uri": "https://localhost:8080/",
          "height": 66,
          "referenced_widgets": [
            "44e0f70668d54e2dba78c8267c14ceed",
            "f8c82707314f4554afa8d3247803a836",
            "ed9dbc04ecb04b869034feb40326571b",
            "86d40009f7664140bf14617c76821ab8",
            "af8d9c2668f84ad9b3a0c3c5afd68f38",
            "9ab88778e2e34e1f9cb7ea8e28b8340d",
            "7380c40046a846209bc99f3e589fefcf",
            "7444e6f6068a4937a718413c74a3d1a9"
          ]
        },
        "id": "El4u2rto37nB",
        "outputId": "10e8170b-8ee5-4c03-bceb-55d7163e878d"
      },
      "source": [
        "import copy\n",
        "from modAL.models import ActiveLearner\n",
        "\n",
        "def random_sampling(classifier, X_pool):\n",
        "    n_samples = len(X_pool)\n",
        "    query_idx = np.random.choice(range(n_samples))\n",
        "    return query_idx, X_pool[query_idx]\n",
        "\n",
        "X_train,y_train=X_train.values,y_train.values\n",
        "\n",
        "n_initial = 100\n",
        "initial_idx = np.random.choice(range(len(X_train)), size=n_initial, replace=False)\n",
        "X_initial, y_initial = X_train[initial_idx], y_train[initial_idx]\n",
        "\n",
        "X_pool=copy.deepcopy(X_train)\n",
        "y_pool=copy.deepcopy(y_train)\n",
        "\n",
        "X_pool=np.delete(X_pool,initial_idx,axis=0)\n",
        "y_pool=np.delete(y_pool,initial_idx,axis=0)\n",
        "\n",
        "learner = ActiveLearner(\n",
        "    estimator=RandomForestRegressor(),\n",
        "    query_strategy=random_sampling,\n",
        "    X_training=X_initial, y_training=y_initial\n",
        ")\n",
        "\n",
        "n_call_to_oracle=410\n",
        "\n",
        "history = []\n",
        "\n",
        "for _ in trange(n_call_to_oracle):\n",
        "    query_idx, _ = learner.query(X_pool)\n",
        "    learner.teach(\n",
        "        X_pool[query_idx].reshape(1,-1),\n",
        "        y_pool[query_idx].reshape(1,))\n",
        "    X_pool = np.delete(X_pool, query_idx, axis=0)\n",
        "    y_pool = np.delete(y_pool, query_idx, axis=0)\n",
        "\n",
        "    r2 = learner.score(X_test,y_test)\n",
        "    history.append(r2)\n"
      ],
      "execution_count": 28,
      "outputs": [
        {
          "output_type": "display_data",
          "data": {
            "application/vnd.jupyter.widget-view+json": {
              "model_id": "44e0f70668d54e2dba78c8267c14ceed",
              "version_minor": 0,
              "version_major": 2
            },
            "text/plain": [
              "HBox(children=(FloatProgress(value=0.0, max=410.0), HTML(value='')))"
            ]
          },
          "metadata": {
            "tags": []
          }
        },
        {
          "output_type": "stream",
          "text": [
            "\n"
          ],
          "name": "stdout"
        }
      ]
    },
    {
      "cell_type": "code",
      "metadata": {
        "colab": {
          "base_uri": "https://localhost:8080/",
          "height": 298
        },
        "id": "GLRc_1xG-7QB",
        "outputId": "2003efb6-1eeb-4057-b576-dc8b82c4ad65"
      },
      "source": [
        "import matplotlib.pyplot as plt\n",
        "\n",
        "pd.DataFrame(history).plot(colormap='Spectral')\n",
        "plt.legend('')\n",
        "plt.title('Random Sampling')"
      ],
      "execution_count": 29,
      "outputs": [
        {
          "output_type": "execute_result",
          "data": {
            "text/plain": [
              "Text(0.5, 1.0, 'Random Sampling')"
            ]
          },
          "metadata": {
            "tags": []
          },
          "execution_count": 29
        },
        {
          "output_type": "display_data",
          "data": {
            "image/png": "[encoded data removed]",
            "text/plain": [
              "<Figure size 432x288 with 1 Axes>"
            ]
          },
          "metadata": {
            "tags": [],
            "needs_background": "light"
          }
        }
      ]
    },
    {
      "cell_type": "code",
      "metadata": {
        "colab": {
          "base_uri": "https://localhost:8080/",
          "height": 66,
          "referenced_widgets": [
            "23a569f2913f43ecb884d2e6ed25c64e",
            "147282a86bfe4f959cb4afb7d73f7df6",
            "f3558f4df1ce4ffaac95cd4b771b5a03",
            "90a7d5c1720e49d7b62cf658bd7eebe5",
            "d4ab0e6def17462a831a41419b95f549",
            "8544c51528b34a83874c07cc3134a536",
            "a8754d968c184c58a1726be893b4761e",
            "2eca3dbdecc4449bad065a0ce3dce20d"
          ]
        },
        "id": "v5C-A6X4EbpH",
        "outputId": "61199b0f-dd8b-4d88-a2d0-635ce2dcad08"
      },
      "source": [
        "import copy\n",
        "from modAL.models import ActiveLearner\n",
        "\n",
        "def GP_regression_std(regressor, X):\n",
        "    _, std = regressor.predict(X, return_std=True)\n",
        "    query_idx = np.argmax(std)\n",
        "    return query_idx, X[query_idx]\n",
        "\n",
        "\n",
        "\n",
        "\n",
        "from sklearn.model_selection import train_test_split\n",
        "data = pd.read_csv('./DataPool.csv').dropna()\n",
        "X_train, X_test, y_train, y_test = train_test_split(\n",
        "    data.drop('Yield',1), data['Yield'], test_size=0.15, random_state=42)\n",
        "\n",
        "X_train,y_train=X_train.values,y_train.values\n",
        "\n",
        "\n",
        "\n",
        "from modAL.models import ActiveLearner\n",
        "from sklearn.gaussian_process import GaussianProcessRegressor\n",
        "from sklearn.gaussian_process.kernels import WhiteKernel, RBF\n",
        "\n",
        "\n",
        "\n",
        "n_initial = 100\n",
        "initial_idx = np.random.choice(range(len(X_train)), size=n_initial, replace=False)\n",
        "X_initial, y_initial = X_train[initial_idx], y_train[initial_idx]\n",
        "\n",
        "X_pool=copy.deepcopy(X_train)\n",
        "y_pool=copy.deepcopy(y_train)\n",
        "\n",
        "X_pool=np.delete(X_pool,initial_idx,axis=0)\n",
        "y_pool=np.delete(y_pool,initial_idx,axis=0)\n",
        "\n",
        "\n",
        "kernel = RBF(length_scale=1.0, length_scale_bounds=(1e-2, 1e3)) \\\n",
        "         + WhiteKernel(noise_level=1, noise_level_bounds=(1e-10, 1e+1))\n",
        "\n",
        "learner = ActiveLearner(\n",
        "    estimator=GaussianProcessRegressor(kernel=kernel),\n",
        "    query_strategy=GP_regression_std,\n",
        "    X_training=X_initial, y_training=y_initial\n",
        ")\n",
        "\n",
        "\n",
        "\n",
        "n_call_to_oracle=410\n",
        "\n",
        "history = []\n",
        "\n",
        "for _ in trange(n_call_to_oracle):\n",
        "    query_idx, _ = learner.query(X_pool)\n",
        "    learner.teach(\n",
        "        X_pool[query_idx].reshape(1,-1),\n",
        "        y_pool[query_idx].reshape(1,))\n",
        "    X_pool = np.delete(X_pool, query_idx, axis=0)\n",
        "    y_pool = np.delete(y_pool, query_idx, axis=0)\n",
        "\n",
        "    r2 = learner.score(X_test,y_test)\n",
        "    history.append(r2)"
      ],
      "execution_count": 30,
      "outputs": [
        {
          "output_type": "display_data",
          "data": {
            "application/vnd.jupyter.widget-view+json": {
              "model_id": "23a569f2913f43ecb884d2e6ed25c64e",
              "version_minor": 0,
              "version_major": 2
            },
            "text/plain": [
              "HBox(children=(FloatProgress(value=0.0, max=410.0), HTML(value='')))"
            ]
          },
          "metadata": {
            "tags": []
          }
        },
        {
          "output_type": "stream",
          "text": [
            "\n"
          ],
          "name": "stdout"
        }
      ]
    },
    {
      "cell_type": "code",
      "metadata": {
        "colab": {
          "base_uri": "https://localhost:8080/",
          "height": 298
        },
        "id": "O6CZ890dEsvl",
        "outputId": "8a031d5f-3359-49ca-8e68-d51316711a63"
      },
      "source": [
        "import matplotlib.pyplot as plt\n",
        "\n",
        "pd.DataFrame(history).plot(colormap='cividis')\n",
        "plt.legend('')\n",
        "plt.title('GPR Std. Sampling')"
      ],
      "execution_count": 31,
      "outputs": [
        {
          "output_type": "execute_result",
          "data": {
            "text/plain": [
              "Text(0.5, 1.0, 'GPR Std. Sampling')"
            ]
          },
          "metadata": {
            "tags": []
          },
          "execution_count": 31
        },
        {
          "output_type": "display_data",
          "data": {
            "image/png": "[encoded data removed]",
            "text/plain": [
              "<Figure size 432x288 with 1 Axes>"
            ]
          },
          "metadata": {
            "tags": [],
            "needs_background": "light"
          }
        }
      ]
    },
    {
      "cell_type": "markdown",
      "metadata": {
        "id": "YZJR-Q1NDei6"
      },
      "source": [
        "Finished initial MQS implementation. We have a pseudo \"oracle\" composed of a random forest regressor with access to ALL data, a Gaussian Cupola generator fitted to all unlabeled instances (minus a held-out test set), and a separate random forest learner. I've compared it to random sampling. Note the danger of overfitting is strong here since we have an identical \"oracle\" to a learner. However, considering the blinded implementation, and if we consider the \"oracle\" to purely be a high-fidelity labeler, we can see convergence improves in both time and fidelity compared to random sampling.\n",
        "\n",
        "As such, MQS is compelling when we may learn a good generative model based on ALL unlabeled data, and then spend the experimental budget purely on labeling.\n",
        "\n",
        "One other side to this: we may generate additional combinations of the design matrix (it was given as a discrete combinatorial problem).\n",
        "\n",
        "The real weakness here is the overlap in the oracle and serious data leakage. Another way I was thinking of getting around this is to use \"pool\"-based sampling in modAL, but really alter it significantly such that a generative model is used to either generate naïve instances to be labeled by a human oracle (implemented below), or do something like https://doi.org/10.1016/j.neucom.2014.06.042.\n",
        "\n",
        "My thought with this was to generate many many instances at each query iteration based on the underlying distribution of the unlabeled dataset, and then use something like uncertainty sampling to choose generated instance to either label by a human, or test out how doing a nearest neighbors search to an existing labeled pool could perform."
      ]
    },
    {
      "cell_type": "markdown",
      "metadata": {
        "id": "SPvmH-lUYOF-"
      },
      "source": [
        "## Implementing a ModAL MQS learner.\n",
        "\n",
        "- without modifying the ActiveLearner class, we can do MQS as follows: consider the active learning \"pool\" to be a \"pool\" of unlabeled instances by which we train a generative model. It is up to the user whether this is inclusive or exlcusive of instances seen by the model or not.\n",
        "- by default, we will use SDV and choose the "
      ]
    },
    {
      "cell_type": "code",
      "metadata": {
        "id": "ePGbSD41EG_N"
      },
      "source": [
        "from sklearn.model_selection import train_test_split\n",
        "import pandas as pd\n",
        "import numpy as np\n",
        "import copy\n",
        "\n",
        "\n",
        "data = pd.read_csv('./DataPool.csv').dropna()\n",
        "X_train, X_test, y_train, y_test = train_test_split(\n",
        "    data.drop('Yield',1), data['Yield'], test_size=0.15, random_state=42)"
      ],
      "execution_count": 6,
      "outputs": []
    },
    {
      "cell_type": "code",
      "metadata": {
        "colab": {
          "base_uri": "https://localhost:8080/",
          "height": 407
        },
        "id": "nHnB--hVN40l",
        "outputId": "9b92a4ff-3848-4eef-e13c-a48b88bcd9ec"
      },
      "source": [
        "data"
      ],
      "execution_count": 53,
      "outputs": [
        {
          "output_type": "execute_result",
          "data": {
            "text/html": [
              "<div>\n",
              "<style scoped>\n",
              "    .dataframe tbody tr th:only-of-type {\n",
              "        vertical-align: middle;\n",
              "    }\n",
              "\n",
              "    .dataframe tbody tr th {\n",
              "        vertical-align: top;\n",
              "    }\n",
              "\n",
              "    .dataframe thead th {\n",
              "        text-align: right;\n",
              "    }\n",
              "</style>\n",
              "<table border=\"1\" class=\"dataframe\">\n",
              "  <thead>\n",
              "    <tr style=\"text-align: right;\">\n",
              "      <th></th>\n",
              "      <th>Mg-glutamate (mM)</th>\n",
              "      <th>K-glutamate (mM)</th>\n",
              "      <th>Amino Acid (mM)</th>\n",
              "      <th>tRNA (mg/ml)</th>\n",
              "      <th>coA (mM)</th>\n",
              "      <th>NAD (mM)</th>\n",
              "      <th>cAMP (mM)</th>\n",
              "      <th>Folinic Acid (mM)</th>\n",
              "      <th>Spermidine (mM)</th>\n",
              "      <th>3-PGA (mM)</th>\n",
              "      <th>NTP (mM)</th>\n",
              "      <th>Yield</th>\n",
              "    </tr>\n",
              "  </thead>\n",
              "  <tbody>\n",
              "    <tr>\n",
              "      <th>0</th>\n",
              "      <td>4.0</td>\n",
              "      <td>80.0</td>\n",
              "      <td>0.15</td>\n",
              "      <td>0.06</td>\n",
              "      <td>0.078</td>\n",
              "      <td>0.033</td>\n",
              "      <td>0.225</td>\n",
              "      <td>0.0340</td>\n",
              "      <td>0.5</td>\n",
              "      <td>9.0</td>\n",
              "      <td>1.50</td>\n",
              "      <td>12.738</td>\n",
              "    </tr>\n",
              "    <tr>\n",
              "      <th>1</th>\n",
              "      <td>2.0</td>\n",
              "      <td>40.0</td>\n",
              "      <td>0.15</td>\n",
              "      <td>0.10</td>\n",
              "      <td>0.026</td>\n",
              "      <td>0.033</td>\n",
              "      <td>0.075</td>\n",
              "      <td>0.0068</td>\n",
              "      <td>0.1</td>\n",
              "      <td>15.0</td>\n",
              "      <td>0.75</td>\n",
              "      <td>5.527</td>\n",
              "    </tr>\n",
              "    <tr>\n",
              "      <th>2</th>\n",
              "      <td>4.0</td>\n",
              "      <td>80.0</td>\n",
              "      <td>0.15</td>\n",
              "      <td>0.20</td>\n",
              "      <td>0.026</td>\n",
              "      <td>0.330</td>\n",
              "      <td>0.075</td>\n",
              "      <td>0.0204</td>\n",
              "      <td>0.3</td>\n",
              "      <td>9.0</td>\n",
              "      <td>1.50</td>\n",
              "      <td>19.079</td>\n",
              "    </tr>\n",
              "    <tr>\n",
              "      <th>3</th>\n",
              "      <td>1.2</td>\n",
              "      <td>40.0</td>\n",
              "      <td>0.15</td>\n",
              "      <td>0.10</td>\n",
              "      <td>0.026</td>\n",
              "      <td>0.099</td>\n",
              "      <td>0.075</td>\n",
              "      <td>0.0340</td>\n",
              "      <td>0.5</td>\n",
              "      <td>3.0</td>\n",
              "      <td>0.75</td>\n",
              "      <td>9.743</td>\n",
              "    </tr>\n",
              "    <tr>\n",
              "      <th>4</th>\n",
              "      <td>4.0</td>\n",
              "      <td>80.0</td>\n",
              "      <td>1.50</td>\n",
              "      <td>0.06</td>\n",
              "      <td>0.130</td>\n",
              "      <td>0.033</td>\n",
              "      <td>0.075</td>\n",
              "      <td>0.0680</td>\n",
              "      <td>0.1</td>\n",
              "      <td>9.0</td>\n",
              "      <td>1.50</td>\n",
              "      <td>27.388</td>\n",
              "    </tr>\n",
              "    <tr>\n",
              "      <th>...</th>\n",
              "      <td>...</td>\n",
              "      <td>...</td>\n",
              "      <td>...</td>\n",
              "      <td>...</td>\n",
              "      <td>...</td>\n",
              "      <td>...</td>\n",
              "      <td>...</td>\n",
              "      <td>...</td>\n",
              "      <td>...</td>\n",
              "      <td>...</td>\n",
              "      <td>...</td>\n",
              "      <td>...</td>\n",
              "    </tr>\n",
              "    <tr>\n",
              "      <th>1012</th>\n",
              "      <td>4.0</td>\n",
              "      <td>80.0</td>\n",
              "      <td>0.15</td>\n",
              "      <td>0.02</td>\n",
              "      <td>0.026</td>\n",
              "      <td>0.330</td>\n",
              "      <td>0.075</td>\n",
              "      <td>0.0340</td>\n",
              "      <td>0.1</td>\n",
              "      <td>9.0</td>\n",
              "      <td>1.50</td>\n",
              "      <td>20.870</td>\n",
              "    </tr>\n",
              "    <tr>\n",
              "      <th>1013</th>\n",
              "      <td>4.0</td>\n",
              "      <td>80.0</td>\n",
              "      <td>1.50</td>\n",
              "      <td>0.10</td>\n",
              "      <td>0.130</td>\n",
              "      <td>0.165</td>\n",
              "      <td>0.075</td>\n",
              "      <td>0.0068</td>\n",
              "      <td>0.3</td>\n",
              "      <td>9.0</td>\n",
              "      <td>1.50</td>\n",
              "      <td>21.862</td>\n",
              "    </tr>\n",
              "    <tr>\n",
              "      <th>1014</th>\n",
              "      <td>1.2</td>\n",
              "      <td>40.0</td>\n",
              "      <td>0.15</td>\n",
              "      <td>0.02</td>\n",
              "      <td>0.026</td>\n",
              "      <td>0.099</td>\n",
              "      <td>0.075</td>\n",
              "      <td>0.0068</td>\n",
              "      <td>0.3</td>\n",
              "      <td>15.0</td>\n",
              "      <td>0.75</td>\n",
              "      <td>12.295</td>\n",
              "    </tr>\n",
              "    <tr>\n",
              "      <th>1015</th>\n",
              "      <td>0.4</td>\n",
              "      <td>40.0</td>\n",
              "      <td>0.15</td>\n",
              "      <td>0.06</td>\n",
              "      <td>0.026</td>\n",
              "      <td>0.033</td>\n",
              "      <td>0.075</td>\n",
              "      <td>0.0340</td>\n",
              "      <td>0.1</td>\n",
              "      <td>9.0</td>\n",
              "      <td>0.75</td>\n",
              "      <td>7.758</td>\n",
              "    </tr>\n",
              "    <tr>\n",
              "      <th>1016</th>\n",
              "      <td>2.0</td>\n",
              "      <td>40.0</td>\n",
              "      <td>0.15</td>\n",
              "      <td>0.10</td>\n",
              "      <td>0.078</td>\n",
              "      <td>0.033</td>\n",
              "      <td>0.225</td>\n",
              "      <td>0.0204</td>\n",
              "      <td>0.1</td>\n",
              "      <td>9.0</td>\n",
              "      <td>0.45</td>\n",
              "      <td>2.605</td>\n",
              "    </tr>\n",
              "  </tbody>\n",
              "</table>\n",
              "<p>1017 rows × 12 columns</p>\n",
              "</div>"
            ],
            "text/plain": [
              "      Mg-glutamate (mM)  K-glutamate (mM)  ...  NTP (mM)   Yield\n",
              "0                   4.0              80.0  ...      1.50  12.738\n",
              "1                   2.0              40.0  ...      0.75   5.527\n",
              "2                   4.0              80.0  ...      1.50  19.079\n",
              "3                   1.2              40.0  ...      0.75   9.743\n",
              "4                   4.0              80.0  ...      1.50  27.388\n",
              "...                 ...               ...  ...       ...     ...\n",
              "1012                4.0              80.0  ...      1.50  20.870\n",
              "1013                4.0              80.0  ...      1.50  21.862\n",
              "1014                1.2              40.0  ...      0.75  12.295\n",
              "1015                0.4              40.0  ...      0.75   7.758\n",
              "1016                2.0              40.0  ...      0.45   2.605\n",
              "\n",
              "[1017 rows x 12 columns]"
            ]
          },
          "metadata": {
            "tags": []
          },
          "execution_count": 53
        }
      ]
    },
    {
      "cell_type": "code",
      "metadata": {
        "id": "2LE2N283EOO_"
      },
      "source": [
        "n_initial = 100\n",
        "initial_idx = np.random.choice(range(len(X_train)), size=n_initial, replace=False)\n",
        "\n",
        "X_training, y_training = X_train.iloc[initial_idx], y_train.iloc[initial_idx]\n",
        "\n",
        "# X_pool=copy.deepcopy(X_train.values)\n",
        "# y_pool=copy.deepcopy(y_train.values)\n",
        "\n",
        "# X_pool=np.delete(X_pool,initial_idx,axis=0)\n",
        "# y_pool=np.delete(y_pool,initial_idx,axis=0)"
      ],
      "execution_count": 8,
      "outputs": []
    },
    {
      "cell_type": "code",
      "metadata": {
        "id": "xbP-kLqAXW67"
      },
      "source": [
        "# defining the custom query strategy, which uses the linear combination of\n",
        "# classifier uncertainty and classifier margin\n",
        "\n",
        "def fit_tabular_generator(X:pd.DataFrame, generator = None, return_fitted=True):\n",
        "    '''\n",
        "    Train a generator on some initial pool of [tabular] data.\n",
        "\n",
        "    Keyword arguments:\n",
        "      X -- the [tabular] feature pool to train a generator on, an np.ndarray or pd.DataFrame\n",
        "      generator -- an existing SDV.tabular instance, or something with a .sample() method. Make a new one if none provided\n",
        "      return_fitted -- return an instance of a fitted generator if true, else a newly instantiated model.\n",
        "    '''\n",
        "    if generator:\n",
        "      return generator.fit(X)\n",
        "    else:\n",
        "\n",
        "      print('Creating and fitting GaussianCopula, CopulaGAN, CTGAN, and TVAE...')\n",
        "\n",
        "      from sdv.tabular import GaussianCopula, CopulaGAN, CTGAN, TVAE\n",
        "      from sdv.evaluation import evaluate\n",
        "\n",
        "      generators = [GaussianCopula(), CopulaGAN(), CTGAN(), TVAE()]\n",
        "\n",
        "      for model in generators:\n",
        "        model.fit(X)\n",
        "      \n",
        "      print('Sampling data...')\n",
        "\n",
        "      synthetic_data = [model.sample() for model in generators]\n",
        "\n",
        "      print('Evaluating data...')\n",
        "\n",
        "      aggregated_evaluations = [evaluate(X_synthetic, X, aggregate=True) for X_synthetic in synthetic_data]\n",
        "      best_idx=np.argmax(aggregated_evaluations)#choose best performing\n",
        "\n",
        "      print(f'Choosing best generator... \\n done.\\n Chose {generators[best_idx].__class__.__name__}')\n",
        "\n",
        "      return generators[best_idx] if return_fitted else [GaussianCopula(), CopulaGAN(), CTGAN(), TVAE()][best_idx]\n"
      ],
      "execution_count": 9,
      "outputs": []
    },
    {
      "cell_type": "code",
      "metadata": {
        "id": "vk8Ce3jnDCBk"
      },
      "source": [
        "import warnings\n",
        "warnings.filterwarnings('ignore')\n",
        "\n",
        "# generator = fit_tabular_generator(X_training)\n",
        "from sdv.tabular import GaussianCopula\n",
        "generator=GaussianCopula()\n",
        "generator.fit(X_training)"
      ],
      "execution_count": 17,
      "outputs": []
    },
    {
      "cell_type": "code",
      "metadata": {
        "id": "5TrZ662RGtDZ"
      },
      "source": [
        "def ask_oracle_for_label(instance,labels,regr_or_clf='regression'):\n",
        "  '''\n",
        "  Query oracle for a label. Careful as this does not handle bad inputs and typing!\n",
        "  '''\n",
        "  if labels.dtype=='float64':\n",
        "    possible_labels = labels.describe()\n",
        "  else:\n",
        "    possible_labels = np.unique(labels)\n",
        "\n",
        "  oracle_label = None\n",
        "  label_type=np.array(possible_labels).dtype\n",
        "\n",
        "  # Start a loop that will run until the user enters a valid discrete label or a float.\n",
        "  while not oracle_label:\n",
        "      # Ask the user for a label.\n",
        "      oracle_label = input(f\"The possible labels for this instance should be from \\n {possible_labels}.\\n\\n \\\n",
        "                        Please provide a suitable dtype {label_type} label for {instance}: \")\n",
        "      \n",
        "  return oracle_label"
      ],
      "execution_count": 50,
      "outputs": []
    },
    {
      "cell_type": "code",
      "metadata": {
        "id": "DAcAhqt4F85A"
      },
      "source": [
        "def membership_query_synthesis(generator, human_annotator = True, labels = None,regr_or_clf='regression'): ##, regr_or_clf:str='classification'):\n",
        "  \n",
        "    \"\"\"Generate a synthetic query based on the underlying distribution of some\n",
        "       inputted \"pool\" of tabular data, X.\n",
        "\n",
        "       Note that this could be easily extended to other data modalities,\n",
        "       such as images, by specifying your own 'generator' object\n",
        "\n",
        "       Given the synthetic data, we either ask the user for a label\n",
        "       on this instance and feed it to the learner.\n",
        "\n",
        "       ***[WIP]***\n",
        "        Another option is to\n",
        "        find the nearest real instance\n",
        "        per https://doi.org/10.1016/j.neucom.2014.06.042\n",
        "        (only works for classification), and then query an oracle or simply\n",
        "        pull from the existing labeled pool for testing purposes.\n",
        "\n",
        "\n",
        "      Keyword arguments:\n",
        "\n",
        "      X -- the pool that the generator and nearest-neighbors algorithm will draw from.\n",
        "\n",
        "      generator -- the synthetic [tabular] data generator, based on SDV library.\n",
        "\n",
        "      human_annotator -- boolean denoting presence of a human annotator.\n",
        "                If True, asks for a label to the synthetic instance from the human/oracle.\n",
        "\n",
        "      possible_labels -- optional list of possible labels.\n",
        "                Recommend to default to unique values or range of values\n",
        "                based on provided y data in learning loop.\n",
        "\n",
        "      regr_or_clf -- string specifying whether 'regression' or 'classification' problem.\n",
        "    \"\"\"\n",
        "\n",
        "    X_synthetic = generator.sample(1)\n",
        "    y_oracle    = ask_oracle_for_label(instance=X_synthetic,labels=labels,regr_or_clf='regression')\n",
        "\n",
        "    return X_synthetic,y_oracle"
      ],
      "execution_count": 51,
      "outputs": []
    },
    {
      "cell_type": "markdown",
      "metadata": {
        "id": "Td2DWc34HnC5"
      },
      "source": [
        "We now can query a user for labels to a single generative instance. This is somewhat naïve. a better approach may be to generate a ton of X/y pairs, then use uncertainty sampling, etc, on those instances, then ask for true labels from the oracle for just those features.\n",
        "\n",
        "To start, here is the naïve method."
      ]
    },
    {
      "cell_type": "code",
      "metadata": {
        "colab": {
          "base_uri": "https://localhost:8080/"
        },
        "id": "65rZ1tMiD5kp",
        "outputId": "0ca8111b-8e17-456b-b14d-9a74900745bc"
      },
      "source": [
        "from modAL import ActiveLearner\n",
        "from sklearn.ensemble import RandomForestRegressor\n",
        "\n",
        "learner = ActiveLearner( #should change, we don't actually sample.\n",
        "    estimator=RandomForestRegressor(),\n",
        "    query_strategy=membership_query_synthesis,\n",
        "    X_training=X_training.values, y_training=y_training.values\n",
        ")\n",
        "\n",
        "# pool-based sampling --> MQS\n",
        "n_queries = 5\n",
        "\n",
        "for idx in range(n_queries):\n",
        "    X_synthetic, y_oracle = membership_query_synthesis(generator,labels=y_training, regr_or_clf='regression')\n",
        "    # typically, we should do learner.query(generator) here.\n",
        "    # instead, we hope the generative model was useful\n",
        "    learner.teach(\n",
        "        X=X_synthetic.values,\n",
        "        y=np.array([y_oracle]).reshape(-1,)\n",
        "    )\n"
      ],
      "execution_count": 52,
      "outputs": [
        {
          "output_type": "stream",
          "text": [
            "The possible labels for this instance should be from \n",
            " count    100.00000\n",
            "mean      14.29433\n",
            "std        8.20773\n",
            "min        0.22200\n",
            "25%        8.13525\n",
            "50%       13.64450\n",
            "75%       21.49800\n",
            "max       32.98300\n",
            "Name: Yield, dtype: float64.\n",
            "\n",
            "                         Please provide a suitable dtype float64 label for    Mg-glutamate (mM)  K-glutamate (mM)  ...  3-PGA (mM)  NTP (mM)\n",
            "0           2.548255         72.746426  ...   16.425252  1.451154\n",
            "\n",
            "[1 rows x 11 columns]: 4\n",
            "The possible labels for this instance should be from \n",
            " count    100.00000\n",
            "mean      14.29433\n",
            "std        8.20773\n",
            "min        0.22200\n",
            "25%        8.13525\n",
            "50%       13.64450\n",
            "75%       21.49800\n",
            "max       32.98300\n",
            "Name: Yield, dtype: float64.\n",
            "\n",
            "                         Please provide a suitable dtype float64 label for    Mg-glutamate (mM)  K-glutamate (mM)  ...  3-PGA (mM)  NTP (mM)\n",
            "0           3.682443         55.098293  ...    5.140474  1.017392\n",
            "\n",
            "[1 rows x 11 columns]: 4\n",
            "The possible labels for this instance should be from \n",
            " count    100.00000\n",
            "mean      14.29433\n",
            "std        8.20773\n",
            "min        0.22200\n",
            "25%        8.13525\n",
            "50%       13.64450\n",
            "75%       21.49800\n",
            "max       32.98300\n",
            "Name: Yield, dtype: float64.\n",
            "\n",
            "                         Please provide a suitable dtype float64 label for    Mg-glutamate (mM)  K-glutamate (mM)  ...  3-PGA (mM)  NTP (mM)\n",
            "0           1.957356         48.039931  ...   12.236734   0.69978\n",
            "\n",
            "[1 rows x 11 columns]: 5\n",
            "The possible labels for this instance should be from \n",
            " count    100.00000\n",
            "mean      14.29433\n",
            "std        8.20773\n",
            "min        0.22200\n",
            "25%        8.13525\n",
            "50%       13.64450\n",
            "75%       21.49800\n",
            "max       32.98300\n",
            "Name: Yield, dtype: float64.\n",
            "\n",
            "                         Please provide a suitable dtype float64 label for    Mg-glutamate (mM)  K-glutamate (mM)  ...  3-PGA (mM)  NTP (mM)\n",
            "0           3.600424         60.245482  ...     4.42905  1.494632\n",
            "\n",
            "[1 rows x 11 columns]: 6\n",
            "The possible labels for this instance should be from \n",
            " count    100.00000\n",
            "mean      14.29433\n",
            "std        8.20773\n",
            "min        0.22200\n",
            "25%        8.13525\n",
            "50%       13.64450\n",
            "75%       21.49800\n",
            "max       32.98300\n",
            "Name: Yield, dtype: float64.\n",
            "\n",
            "                         Please provide a suitable dtype float64 label for    Mg-glutamate (mM)  K-glutamate (mM)  ...  3-PGA (mM)  NTP (mM)\n",
            "0           1.830257         27.354058  ...   16.044124  0.438253\n",
            "\n",
            "[1 rows x 11 columns]: 2\n"
          ],
          "name": "stdout"
        }
      ]
    },
    {
      "cell_type": "markdown",
      "metadata": {
        "id": "7-ymwnTFJWya"
      },
      "source": [
        "Now, here is the method that uses uncertainty sampling. We generate 100 synthetic instances, then choose a batch of 5 to give to the oracle. We then have two options: we can either do this by human annoatation of these 5 most uncertain generative designs, or we can find the nearest neighbor in the real pool."
      ]
    }
  ]
}